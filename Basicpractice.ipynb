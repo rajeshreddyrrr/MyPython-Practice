{
 "cells": [
  {
   "cell_type": "code",
   "execution_count": 19,
   "metadata": {},
   "outputs": [
    {
     "name": "stdout",
     "output_type": "stream",
     "text": [
      "10 type <class 'int'>\n",
      "20.00008 type <class 'float'>\n",
      "Rajesh type <class 'str'>\n",
      "#Multiple assignments\n",
      "30 type <class 'int'>\n",
      "40.88858 type <class 'float'>\n",
      "Rajesh type <class 'str'>\n"
     ]
    }
   ],
   "source": [
    "a=10 #integer\n",
    "b=20.00008 #double\n",
    "c=\"Rajesh\"  #string\n",
    "\n",
    "print(a ,\"type\" , type(a))\n",
    "print(b,\"type\",type(b))\n",
    "print(c,\"type\",type(c))\n",
    "\n",
    "\n",
    "print(\"#Multiple assignments\")\n",
    "\n",
    "x,y,z=30,40.88858,\"Rajesh\"\n",
    "\n",
    "print(x ,\"type\" , type(x))\n",
    "print(y,\"type\",type(y))\n",
    "print(z,\"type\",type(z))"
   ]
  },
  {
   "cell_type": "code",
   "execution_count": 39,
   "metadata": {},
   "outputs": [
    {
     "name": "stdout",
     "output_type": "stream",
     "text": [
      "welcome World\n",
      "elcome Wo\n",
      "welcome World\n",
      " World\n",
      "welcome\n"
     ]
    }
   ],
   "source": [
    "message=\"welcome World\"\n",
    "print(message)\n",
    "\n",
    "print(message[1:10])\n",
    "print(message[0:])\n",
    "print(message[7:])\n",
    "print(message[:7])"
   ]
  },
  {
   "cell_type": "code",
   "execution_count": 62,
   "metadata": {},
   "outputs": [
    {
     "name": "stdout",
     "output_type": "stream",
     "text": [
      "[[1, 'Rajesh', 'PLVD', 9701645407], [2, 'Ramireddy', 'HYD', 9701645407]]\n",
      "[1, 'Rajesh', 'PLVD', 9701645407]\n",
      "<class 'list'>\n",
      "<class 'list'>\n",
      "[[1, 'Rajesh', 'PLVD', 9701645407], [2, 'Ramireddy', 'HYD', 9701645407]]\n"
     ]
    }
   ],
   "source": [
    "#Lists\n",
    "\n",
    "students=[[1,\"Rajesh\",\"PLVD\",9701645407],\n",
    "          [2,\"Ramireddy\",\"HYD\",9701645407]\n",
    "         ]\n",
    "print(students)\n",
    "\n",
    "students1=[1,\"Rajesh\",\"PLVD\",9701645407]\n",
    "print(students1)\n",
    "print(type(students1))\n",
    "print(type(students))\n",
    "\n",
    "print(students[0:])"
   ]
  },
  {
   "cell_type": "code",
   "execution_count": 55,
   "metadata": {},
   "outputs": [
    {
     "name": "stdout",
     "output_type": "stream",
     "text": [
      "((1, 'Rajesh', 'Hyd', 9701645407), (2, 'Ramireddy', 'PLVD', 7801013140)) <class 'tuple'>\n"
     ]
    }
   ],
   "source": [
    "#Tuples\n",
    "Employees=(1,\"Rajesh\",\"Hyd\",9701645407),(2,\"Ramireddy\",\"PLVD\",7801013140)\n",
    "print(Employees,type(Employees))"
   ]
  },
  {
   "cell_type": "code",
   "execution_count": 22,
   "metadata": {},
   "outputs": [
    {
     "name": "stdout",
     "output_type": "stream",
     "text": [
      "{'name': 'Rajesh', 'mailid': 'rajeshreddyrrr3@gmail.com', 'mobile': 9701645407}\n"
     ]
    }
   ],
   "source": [
    "#Dictionarys\n",
    "Employees={\"name\":\"Rajesh\",\n",
    "            \"mailid\":\"rajeshreddyrrr3@gmail.com\",\n",
    "            \"mobile\":9701645407}\n",
    "\n",
    "print(Employees)"
   ]
  },
  {
   "cell_type": "code",
   "execution_count": 67,
   "metadata": {},
   "outputs": [
    {
     "data": {
      "text/plain": [
       "float"
      ]
     },
     "execution_count": 67,
     "metadata": {},
     "output_type": "execute_result"
    }
   ],
   "source": [
    "d=20\n",
    "type(d)\n",
    "d=float(d)\n",
    "type(d)"
   ]
  },
  {
   "cell_type": "code",
   "execution_count": 92,
   "metadata": {},
   "outputs": [
    {
     "name": "stdout",
     "output_type": "stream",
     "text": [
      "true1\n"
     ]
    }
   ],
   "source": [
    "#Conditional Statments\n",
    "var =100\n",
    "var1=1\n",
    "if(var==100 ):\n",
    "    if(var1==10):\n",
    "        print(\"Nested true\")\n",
    "        \n",
    "    print(\"true1\")\n",
    "else:\n",
    "    print(\"false\")"
   ]
  },
  {
   "cell_type": "code",
   "execution_count": 1,
   "metadata": {},
   "outputs": [
    {
     "name": "stdout",
     "output_type": "stream",
     "text": [
      "COunt is 0\n",
      "Good Bye\n"
     ]
    }
   ],
   "source": [
    "#Loops\n",
    "\n",
    "a=0\n",
    "while(a==0):\n",
    "    print(\"COunt is\",a)\n",
    "    a=a+1\n",
    "print(\"Good Bye\")"
   ]
  },
  {
   "cell_type": "code",
   "execution_count": 3,
   "metadata": {},
   "outputs": [
    {
     "name": "stdout",
     "output_type": "stream",
     "text": [
      "0\n",
      "1\n",
      "2\n",
      "3\n",
      "4\n",
      "5\n",
      "6\n",
      "7\n",
      "8\n"
     ]
    }
   ],
   "source": [
    "#while loop-If the condition is true or false statment will executed\n",
    "\n",
    "a=0\n",
    "while(a<9):\n",
    "    print(a)\n",
    "    a=a+1"
   ]
  },
  {
   "cell_type": "code",
   "execution_count": 15,
   "metadata": {},
   "outputs": [],
   "source": [
    "#For loop"
   ]
  },
  {
   "cell_type": "code",
   "execution_count": 10,
   "metadata": {},
   "outputs": [
    {
     "name": "stdout",
     "output_type": "stream",
     "text": [
      "P\n",
      "y\n",
      "t\n",
      "h\n",
      "o\n",
      "n\n"
     ]
    }
   ],
   "source": [
    "#To print lettrs in a string\n",
    "for letter in \"Python\":\n",
    "    print(letter)"
   ]
  },
  {
   "cell_type": "code",
   "execution_count": 20,
   "metadata": {},
   "outputs": [
    {
     "name": "stdout",
     "output_type": "stream",
     "text": [
      "['Rajesh', 'Ramireddy', 'SaiPrathap', 'ramana']\n",
      "Rajesh\n",
      "Ramireddy\n",
      "SaiPrathap\n",
      "ramana\n"
     ]
    },
    {
     "data": {
      "text/plain": [
       "list"
      ]
     },
     "execution_count": 20,
     "metadata": {},
     "output_type": "execute_result"
    }
   ],
   "source": [
    "#To print names in a list\n",
    "names=[\"Rajesh\",\"Ramireddy\",\"SaiPrathap\",\"ramana\"]\n",
    "\n",
    "print(names)\n",
    "\n",
    "for name in names:\n",
    "    print(name)\n",
    "    \n",
    "    \n",
    "type(names)"
   ]
  },
  {
   "cell_type": "code",
   "execution_count": 21,
   "metadata": {},
   "outputs": [
    {
     "name": "stdout",
     "output_type": "stream",
     "text": [
      "('Rajesh', 'Ramireddy', 'SaiPrathap', 'ramana')\n",
      "Rajesh\n",
      "Ramireddy\n",
      "SaiPrathap\n",
      "ramana\n"
     ]
    },
    {
     "data": {
      "text/plain": [
       "tuple"
      ]
     },
     "execution_count": 21,
     "metadata": {},
     "output_type": "execute_result"
    }
   ],
   "source": [
    "#To Print names in a tuple\n",
    "names=(\"Rajesh\",\"Ramireddy\",\"SaiPrathap\",\"ramana\")\n",
    "\n",
    "print(names)\n",
    "\n",
    "for name in names:\n",
    "    print(name)\n",
    "    \n",
    "type(names)"
   ]
  },
  {
   "cell_type": "code",
   "execution_count": 47,
   "metadata": {},
   "outputs": [
    {
     "name": "stdout",
     "output_type": "stream",
     "text": [
      "{'name': 'Rajesh', 'mailid': 'rajeshreddyrrr3@gmail.com', 'mobile': 9701645407}\n",
      "dict_keys(['name', 'mailid', 'mobile'])\n",
      "dict_values(['Rajesh', 'rajeshreddyrrr3@gmail.com', 9701645407])\n",
      "name Rajesh\n",
      "mailid rajeshreddyrrr3@gmail.com\n",
      "mobile 9701645407\n",
      "name\n",
      "Rajesh\n",
      "mailid\n",
      "rajeshreddyrrr3@gmail.com\n",
      "mobile\n",
      "9701645407\n"
     ]
    }
   ],
   "source": [
    "#To Print names in a dictionary\n",
    "\n",
    "Employees={\"name\":\"Rajesh\",\n",
    "            \"mailid\":\"rajeshreddyrrr3@gmail.com\",\n",
    "            \"mobile\":9701645407}\n",
    "\n",
    "print(Employees)\n",
    "type(Employees)\n",
    "len(Employees)\n",
    "\n",
    "#To print keys\n",
    "print(Employees.keys())\n",
    "print(Employees.values())\n",
    "\n",
    "#To  print key and values\n",
    "for key,value in Employees.items():\n",
    "    print(key,value)\n",
    "    \n",
    "#To  print key and values seperate\n",
    "for key,value in Employees.items():\n",
    "    print(key)\n",
    "    print(value)"
   ]
  },
  {
   "cell_type": "code",
   "execution_count": 48,
   "metadata": {},
   "outputs": [
    {
     "data": {
      "text/plain": [
       "10.0"
      ]
     },
     "execution_count": 48,
     "metadata": {},
     "output_type": "execute_result"
    }
   ],
   "source": [
    "#To convert int to float\n",
    "a=10\n",
    "type(a)\n",
    "float(a)"
   ]
  },
  {
   "cell_type": "code",
   "execution_count": 62,
   "metadata": {},
   "outputs": [
    {
     "name": "stdout",
     "output_type": "stream",
     "text": [
      "['physics', 'chemistry', 1997, 2000]\n",
      "After deleting value at index 2 : \n",
      "['physics', 'chemistry', 2000]\n",
      "['physics', 'chemistry', 208]\n"
     ]
    }
   ],
   "source": [
    "list1 = ['physics', 'chemistry', 1997, 2000];\n",
    "print (list1)\n",
    "del list1[2];\n",
    "print (\"After deleting value at index 2 : \")\n",
    "print (list1)\n",
    "list1[2]=208\n",
    "print(list1)"
   ]
  },
  {
   "cell_type": "code",
   "execution_count": 66,
   "metadata": {},
   "outputs": [
    {
     "name": "stdout",
     "output_type": "stream",
     "text": [
      "['rajsh', 'ramireddy', 'sai', 'prathap']\n"
     ]
    },
    {
     "data": {
      "text/plain": [
       "list"
      ]
     },
     "execution_count": 66,
     "metadata": {},
     "output_type": "execute_result"
    }
   ],
   "source": [
    "#COncatinate two list\n",
    "std=[\"rajsh\",\"ramireddy\"]\n",
    "std1=[\"sai\",\"prathap\"]\n",
    "\n",
    "std2=std+std1\n",
    "print(std2)\n",
    "type(std2)"
   ]
  },
  {
   "cell_type": "code",
   "execution_count": 67,
   "metadata": {},
   "outputs": [
    {
     "name": "stdout",
     "output_type": "stream",
     "text": [
      "('rajsh', 'ramireddy', 'sai', 'prathap')\n"
     ]
    },
    {
     "data": {
      "text/plain": [
       "tuple"
      ]
     },
     "execution_count": 67,
     "metadata": {},
     "output_type": "execute_result"
    }
   ],
   "source": [
    "#Concatinate two tuples\n",
    "std=(\"rajsh\",\"ramireddy\")\n",
    "std1=(\"sai\",\"prathap\")\n",
    "\n",
    "std2=std+std1\n",
    "print(std2)\n",
    "type(std2)"
   ]
  },
  {
   "cell_type": "code",
   "execution_count": 69,
   "metadata": {},
   "outputs": [
    {
     "ename": "TypeError",
     "evalue": "unsupported operand type(s) for +: 'dict' and 'dict'",
     "output_type": "error",
     "traceback": [
      "\u001b[1;31m---------------------------------------------------------------------------\u001b[0m",
      "\u001b[1;31mTypeError\u001b[0m                                 Traceback (most recent call last)",
      "\u001b[1;32m<ipython-input-69-531d1c399bb5>\u001b[0m in \u001b[0;36m<module>\u001b[1;34m\u001b[0m\n\u001b[0;32m      3\u001b[0m \u001b[0mstd1\u001b[0m\u001b[1;33m=\u001b[0m\u001b[1;33m{\u001b[0m\u001b[1;34m\"name\"\u001b[0m\u001b[1;33m:\u001b[0m\u001b[1;34m\"sai\"\u001b[0m\u001b[1;33m,\u001b[0m\u001b[1;34m\"loc\"\u001b[0m\u001b[1;33m:\u001b[0m\u001b[1;34m\"hyd\"\u001b[0m\u001b[1;33m}\u001b[0m\u001b[1;33m\u001b[0m\u001b[1;33m\u001b[0m\u001b[0m\n\u001b[0;32m      4\u001b[0m \u001b[1;33m\u001b[0m\u001b[0m\n\u001b[1;32m----> 5\u001b[1;33m \u001b[0mstd2\u001b[0m\u001b[1;33m=\u001b[0m\u001b[0mstd\u001b[0m\u001b[1;33m+\u001b[0m\u001b[0mstd1\u001b[0m   \u001b[1;31m# we will get error.COncatinate(+) can't support to dictionarys\u001b[0m\u001b[1;33m\u001b[0m\u001b[1;33m\u001b[0m\u001b[0m\n\u001b[0m\u001b[0;32m      6\u001b[0m \u001b[0mprint\u001b[0m\u001b[1;33m(\u001b[0m\u001b[0mstd2\u001b[0m\u001b[1;33m)\u001b[0m\u001b[1;33m\u001b[0m\u001b[1;33m\u001b[0m\u001b[0m\n",
      "\u001b[1;31mTypeError\u001b[0m: unsupported operand type(s) for +: 'dict' and 'dict'"
     ]
    }
   ],
   "source": [
    "#Concatinate two dictionarys\n",
    "std={\"name\":\"Rajesh\",\"loc\":\"plvd\"}\n",
    "std1={\"name\":\"sai\",\"loc\":\"hyd\"}\n",
    "\n",
    "std2=std+std1   # we will get error.COncatinate(+) can't support to dictionarys\n",
    "print(std2)"
   ]
  },
  {
   "cell_type": "code",
   "execution_count": 75,
   "metadata": {},
   "outputs": [
    {
     "data": {
      "text/plain": [
       "tuple"
      ]
     },
     "execution_count": 75,
     "metadata": {},
     "output_type": "execute_result"
    }
   ],
   "source": [
    "#To Convert list to tuple\n",
    "std=[1,2,3]\n",
    "type(std)\n",
    "std=tuple(std)\n",
    "type(std)"
   ]
  },
  {
   "cell_type": "code",
   "execution_count": 79,
   "metadata": {},
   "outputs": [
    {
     "data": {
      "text/plain": [
       "list"
      ]
     },
     "execution_count": 79,
     "metadata": {},
     "output_type": "execute_result"
    }
   ],
   "source": [
    "#To COnvert tuple to list\n",
    "std=(1,2,3)\n",
    "type(std)\n",
    "std=list(std)\n",
    "type(std)"
   ]
  },
  {
   "cell_type": "code",
   "execution_count": 81,
   "metadata": {},
   "outputs": [
    {
     "name": "stdout",
     "output_type": "stream",
     "text": [
      "['Rajesh', 'Ramireddy', 'sai']\n",
      "['Rajesh', 'Ramireddy', 'sai', 'prathap']\n"
     ]
    }
   ],
   "source": [
    "#Adding elements into list\n",
    "student=[\"Rajesh\",\"Ramireddy\",\"sai\"]\n",
    "print(student)\n",
    "student.append(\"prathap\")\n",
    "print(student)"
   ]
  },
  {
   "cell_type": "code",
   "execution_count": 83,
   "metadata": {},
   "outputs": [
    {
     "name": "stdout",
     "output_type": "stream",
     "text": [
      "('Rajesh', 'Ramireddy', 'Sai')\n"
     ]
    },
    {
     "ename": "AttributeError",
     "evalue": "'tuple' object has no attribute 'append'",
     "output_type": "error",
     "traceback": [
      "\u001b[1;31m---------------------------------------------------------------------------\u001b[0m",
      "\u001b[1;31mAttributeError\u001b[0m                            Traceback (most recent call last)",
      "\u001b[1;32m<ipython-input-83-8c635e4a4367>\u001b[0m in \u001b[0;36m<module>\u001b[1;34m\u001b[0m\n\u001b[0;32m      2\u001b[0m \u001b[0mstudents\u001b[0m\u001b[1;33m=\u001b[0m\u001b[1;33m(\u001b[0m\u001b[1;34m\"Rajesh\"\u001b[0m\u001b[1;33m,\u001b[0m\u001b[1;34m\"Ramireddy\"\u001b[0m\u001b[1;33m,\u001b[0m\u001b[1;34m\"Sai\"\u001b[0m\u001b[1;33m)\u001b[0m\u001b[1;33m\u001b[0m\u001b[1;33m\u001b[0m\u001b[0m\n\u001b[0;32m      3\u001b[0m \u001b[0mprint\u001b[0m\u001b[1;33m(\u001b[0m\u001b[0mstudents\u001b[0m\u001b[1;33m)\u001b[0m\u001b[1;33m\u001b[0m\u001b[1;33m\u001b[0m\u001b[0m\n\u001b[1;32m----> 4\u001b[1;33m \u001b[0mstudents\u001b[0m\u001b[1;33m.\u001b[0m\u001b[0mappend\u001b[0m\u001b[1;33m(\u001b[0m\u001b[1;34m\"Ramana\"\u001b[0m\u001b[1;33m)\u001b[0m\u001b[1;33m\u001b[0m\u001b[1;33m\u001b[0m\u001b[0m\n\u001b[0m\u001b[0;32m      5\u001b[0m \u001b[0mprint\u001b[0m\u001b[1;33m(\u001b[0m\u001b[0mstudents\u001b[0m\u001b[1;33m)\u001b[0m\u001b[1;33m\u001b[0m\u001b[1;33m\u001b[0m\u001b[0m\n",
      "\u001b[1;31mAttributeError\u001b[0m: 'tuple' object has no attribute 'append'"
     ]
    }
   ],
   "source": [
    "#Adding elements into tuple\n",
    "students=(\"Rajesh\",\"Ramireddy\",\"Sai\")\n",
    "print(students)\n",
    "students.append(\"Ramana\")\n",
    "print(students)"
   ]
  },
  {
   "cell_type": "code",
   "execution_count": 88,
   "metadata": {},
   "outputs": [
    {
     "name": "stdout",
     "output_type": "stream",
     "text": [
      "['rajsh', 'ramireddy', ['sai', 'prathap']]\n"
     ]
    },
    {
     "data": {
      "text/plain": [
       "list"
      ]
     },
     "execution_count": 88,
     "metadata": {},
     "output_type": "execute_result"
    }
   ],
   "source": [
    "#Methods in List\n",
    "#Extend we can add another list in a list\n",
    "std=[\"rajsh\",\"ramireddy\"]\n",
    "std1=[\"sai\",\"prathap\"]\n",
    "\n",
    "std.extend(std1) #std.append(std1)  Both are same based on the usage we can use both\n",
    "\n",
    "print(std)\n",
    "type(std)"
   ]
  },
  {
   "cell_type": "code",
   "execution_count": 95,
   "metadata": {},
   "outputs": [
    {
     "name": "stdout",
     "output_type": "stream",
     "text": [
      "[123, 4556, 123, 789]\n"
     ]
    },
    {
     "data": {
      "text/plain": [
       "1"
      ]
     },
     "execution_count": 95,
     "metadata": {},
     "output_type": "execute_result"
    }
   ],
   "source": [
    "#List.count(obj) It will return count(HOw many times it is there in list) of the selected element\n",
    "student=[123,4556,123,789]\n",
    "print(student)\n",
    "student.count(789)\n"
   ]
  },
  {
   "cell_type": "code",
   "execution_count": 97,
   "metadata": {},
   "outputs": [
    {
     "data": {
      "text/plain": [
       "1"
      ]
     },
     "execution_count": 97,
     "metadata": {},
     "output_type": "execute_result"
    }
   ],
   "source": [
    "#list.index(obj) It will return index of a specified element\n",
    "student=[123,4556,123,789]\n",
    "student.index(4556)"
   ]
  },
  {
   "cell_type": "code",
   "execution_count": 100,
   "metadata": {},
   "outputs": [
    {
     "name": "stdout",
     "output_type": "stream",
     "text": [
      "[0, 123, 4556, 123, 789]\n"
     ]
    }
   ],
   "source": [
    "#list.insert(indwx,value) It will insert element  of a specified index \n",
    "student=[123,4556,123,789]\n",
    "student.insert(0,000)\n",
    "print(student)\n"
   ]
  },
  {
   "cell_type": "code",
   "execution_count": 105,
   "metadata": {},
   "outputs": [
    {
     "name": "stdout",
     "output_type": "stream",
     "text": [
      "A List :  abc\n",
      "B List :  zara\n",
      "[123, 'xyz']\n"
     ]
    }
   ],
   "source": [
    "#list.pop() We can remove elments from a specified index.It will remove elements by index base\n",
    "aList = [123, 'xyz', 'zara', 'abc'];\n",
    "print (\"A List : \", aList.pop())\n",
    "print (\"B List : \", aList.pop(2))\n",
    "print(aList)"
   ]
  },
  {
   "cell_type": "code",
   "execution_count": 108,
   "metadata": {},
   "outputs": [
    {
     "name": "stdout",
     "output_type": "stream",
     "text": [
      "['xyz']\n"
     ]
    }
   ],
   "source": [
    "#list.remove() TO remove the element by using specific element(It is a element base)\n",
    "aList.remove(123)\n",
    "print(aList)"
   ]
  },
  {
   "cell_type": "code",
   "execution_count": 109,
   "metadata": {},
   "outputs": [
    {
     "name": "stdout",
     "output_type": "stream",
     "text": [
      "[123, 456, 789, 123, 423]\n",
      "After reverse Operation\n",
      "[423, 123, 789, 456, 123]\n"
     ]
    }
   ],
   "source": [
    "#list.reverse() It will reverse the list\n",
    "ilist=[123,456,789,123,423]\n",
    "print(ilist)\n",
    "print(\"After reverse Operation\")\n",
    "ilist.reverse()\n",
    "print(ilist)"
   ]
  },
  {
   "cell_type": "code",
   "execution_count": 113,
   "metadata": {},
   "outputs": [
    {
     "name": "stdout",
     "output_type": "stream",
     "text": [
      "[123, 123, 423, 456, 789]\n",
      "AFter sorting\n",
      "[123, 123, 423, 456, 789]\n"
     ]
    }
   ],
   "source": [
    "#list.sort() To sort the list\n",
    "print(ilist)\n",
    "#ilist.sort()\n",
    "print(\"AFter sorting\")\n",
    "print(ilist)"
   ]
  },
  {
   "cell_type": "code",
   "execution_count": 117,
   "metadata": {},
   "outputs": [
    {
     "name": "stdout",
     "output_type": "stream",
     "text": [
      "[123, 123, 423, 456, 789]\n"
     ]
    },
    {
     "data": {
      "text/plain": [
       "5"
      ]
     },
     "execution_count": 117,
     "metadata": {},
     "output_type": "execute_result"
    }
   ],
   "source": [
    "#To get he length of the list or count of the elements in a list\n",
    "print(ilist)\n",
    "len(ilist)"
   ]
  },
  {
   "cell_type": "code",
   "execution_count": 134,
   "metadata": {},
   "outputs": [
    {
     "name": "stdout",
     "output_type": "stream",
     "text": [
      "(123, 456, 789, 159, 638)\n",
      "(123, 456, 789, 159, 638, 456, 453)\n"
     ]
    }
   ],
   "source": [
    "#Tuples\n",
    "student=(123,456,789,159,638)\n",
    "student1=(987,654,3156,1354)\n",
    "\n",
    "print(student)\n",
    "#student[1]=10; #we can't update this in tuples.only we can udate it in list only.SO we can add new tuple and add to it\n",
    "student3=(456,453)\n",
    "student=student+student3\n",
    "print(student)"
   ]
  },
  {
   "cell_type": "code",
   "execution_count": 135,
   "metadata": {},
   "outputs": [
    {
     "name": "stdout",
     "output_type": "stream",
     "text": [
      "(123, 456, 789, 159, 638, 456, 453)\n"
     ]
    }
   ],
   "source": [
    "print(student)"
   ]
  },
  {
   "cell_type": "code",
   "execution_count": 137,
   "metadata": {},
   "outputs": [
    {
     "name": "stdout",
     "output_type": "stream",
     "text": [
      "(123, 456, 789, 159, 638, 456, 453)\n",
      "7\n"
     ]
    }
   ],
   "source": [
    "#len To return the length of the tuples\n",
    "print(student)\n",
    "print(len(student))"
   ]
  },
  {
   "cell_type": "code",
   "execution_count": 138,
   "metadata": {},
   "outputs": [
    {
     "name": "stdout",
     "output_type": "stream",
     "text": [
      "789\n"
     ]
    }
   ],
   "source": [
    "#max(tuple) To return the maximum values in the tuple\n",
    "print(max(student))"
   ]
  },
  {
   "cell_type": "code",
   "execution_count": 139,
   "metadata": {},
   "outputs": [
    {
     "name": "stdout",
     "output_type": "stream",
     "text": [
      "123\n"
     ]
    }
   ],
   "source": [
    "#min(tuple)  TO return the minimum value of the tuple\n",
    "print(min(student))"
   ]
  },
  {
   "cell_type": "code",
   "execution_count": 152,
   "metadata": {},
   "outputs": [
    {
     "name": "stdout",
     "output_type": "stream",
     "text": [
      "<class 'tuple'>\n",
      "<class 'list'>\n"
     ]
    }
   ],
   "source": [
    "#lis(tuplename) To chnage the tuple into list\n",
    "print(type(student))\n",
    "student=list(student)\n",
    "#print(\"After changing\")\n",
    "print(type(student))\n"
   ]
  },
  {
   "cell_type": "code",
   "execution_count": 162,
   "metadata": {},
   "outputs": [
    {
     "name": "stdout",
     "output_type": "stream",
     "text": [
      "time.struct_time(tm_year=2020, tm_mon=2, tm_mday=23, tm_hour=22, tm_min=7, tm_sec=37, tm_wday=6, tm_yday=54, tm_isdst=0)\n"
     ]
    }
   ],
   "source": [
    "#Time  TIme is available for different zones we will use localtime.\n",
    "ticks=time.localtime(time.time())\n",
    "print(ticks)"
   ]
  },
  {
   "cell_type": "code",
   "execution_count": 163,
   "metadata": {},
   "outputs": [],
   "source": [
    "#Functions It is a block and can reussuabke for different classes\n",
    "def welcome(str):\n",
    "    \"this will print string value\"\n",
    "    print(str)\n",
    "    return"
   ]
  },
  {
   "cell_type": "code",
   "execution_count": 166,
   "metadata": {},
   "outputs": [
    {
     "name": "stdout",
     "output_type": "stream",
     "text": [
      "Welcome to Pyhton...!\n"
     ]
    }
   ],
   "source": [
    "welcome(\"Welcome to Pyhton...!\")"
   ]
  },
  {
   "cell_type": "code",
   "execution_count": 168,
   "metadata": {},
   "outputs": [],
   "source": [
    "#Function to add two values\n",
    "def Sum(a,b):\n",
    "    print(a+b)\n",
    "    return"
   ]
  },
  {
   "cell_type": "code",
   "execution_count": 169,
   "metadata": {},
   "outputs": [
    {
     "name": "stdout",
     "output_type": "stream",
     "text": [
      "30\n"
     ]
    }
   ],
   "source": [
    "Sum(10,20)"
   ]
  },
  {
   "cell_type": "code",
   "execution_count": 176,
   "metadata": {},
   "outputs": [],
   "source": [
    "#Function by using list\n",
    "def changelist(mylist):\n",
    "    mylist.append([1,2,3,4,5,6])\n",
    "    print(mylist)\n",
    "    return"
   ]
  },
  {
   "cell_type": "code",
   "execution_count": 177,
   "metadata": {},
   "outputs": [
    {
     "name": "stdout",
     "output_type": "stream",
     "text": [
      "[9, 8, 7, 6, 5, 3, 1, [1, 2, 3, 4, 5, 6]]\n"
     ]
    }
   ],
   "source": [
    "mylist=[9,8,7,6,5,3,1]\n",
    "changelist(mylist)"
   ]
  },
  {
   "cell_type": "code",
   "execution_count": 189,
   "metadata": {},
   "outputs": [],
   "source": [
    "x=lambda a,b,c:a+10+b+c"
   ]
  },
  {
   "cell_type": "code",
   "execution_count": 190,
   "metadata": {},
   "outputs": [
    {
     "data": {
      "text/plain": [
       "45"
      ]
     },
     "execution_count": 190,
     "metadata": {},
     "output_type": "execute_result"
    }
   ],
   "source": [
    "x(20,10,5)"
   ]
  },
  {
   "cell_type": "code",
   "execution_count": null,
   "metadata": {},
   "outputs": [],
   "source": []
  }
 ],
 "metadata": {
  "kernelspec": {
   "display_name": "Python 3",
   "language": "python",
   "name": "python3"
  },
  "language_info": {
   "codemirror_mode": {
    "name": "ipython",
    "version": 3
   },
   "file_extension": ".py",
   "mimetype": "text/x-python",
   "name": "python",
   "nbconvert_exporter": "python",
   "pygments_lexer": "ipython3",
   "version": "3.7.4"
  }
 },
 "nbformat": 4,
 "nbformat_minor": 2
}
