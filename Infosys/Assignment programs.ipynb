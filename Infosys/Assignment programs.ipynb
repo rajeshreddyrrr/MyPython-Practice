{
 "cells": [
  {
   "cell_type": "code",
   "execution_count": 1,
   "metadata": {},
   "outputs": [
    {
     "name": "stdout",
     "output_type": "stream",
     "text": [
      "Enter a number:123\n",
      "To get the digit from number 3\n",
      "sum of yhe number 3\n",
      "To get the digit from number 2\n",
      "sum of yhe number 5\n",
      "To get the digit from number 1\n",
      "sum of yhe number 6\n",
      "Sum of the number is: 6\n"
     ]
    }
   ],
   "source": [
    "#Write a Python program to find the sum of digits of a given number.\n",
    "n=int(input(\"Enter a number:\"))\n",
    "total=0\n",
    "\n",
    "while(n>0):\n",
    "    digit=n%10\n",
    "    print(\"To get the digit from number\",digit)\n",
    "    total=total+digit\n",
    "    print(\"sum of yhe number\",total)\n",
    "    n=n//10\n",
    "    \n",
    "print(\"Sum of the number is:\",total)"
   ]
  },
  {
   "cell_type": "code",
   "execution_count": 2,
   "metadata": {},
   "outputs": [
    {
     "name": "stdout",
     "output_type": "stream",
     "text": [
      "Enter the number123\n",
      "3\n",
      "2\n",
      "1\n",
      "321\n"
     ]
    }
   ],
   "source": [
    "#Write a Python program to print reverse of a given number.\n",
    "n=int(input(\"Enter the number\"))\n",
    "reverse=0\n",
    "while(n>0):\n",
    "    digit=n%10\n",
    "    print(digit)\n",
    "    reverse=(reverse*10)+digit\n",
    "    n=n//10\n",
    "\n",
    "print(reverse)\n",
    "    "
   ]
  },
  {
   "cell_type": "code",
   "execution_count": 3,
   "metadata": {},
   "outputs": [
    {
     "name": "stdout",
     "output_type": "stream",
     "text": [
      "dlrow olleh\n"
     ]
    }
   ],
   "source": [
    "#Write a Python program to print reverse of a given number.\n",
    "\n",
    "name=\"hello world\"\n",
    "print(name[::-1])"
   ]
  },
  {
   "cell_type": "code",
   "execution_count": 5,
   "metadata": {},
   "outputs": [
    {
     "name": "stdout",
     "output_type": "stream",
     "text": [
      "Enter first number1\n",
      "Enter the second number2\n",
      "Enter the third number3\n",
      "C is maximum\n"
     ]
    }
   ],
   "source": [
    "#Write a Python program to find and display the maximum number in given three.\n",
    "\n",
    "a=int(input(\"Enter first number\"))\n",
    "b=int(input(\"Enter the second number\"))\n",
    "c=int(input(\"Enter the third number\"))\n",
    "\n",
    "if(a>b & a>c):\n",
    "    print(\"A is maximum\")\n",
    "elif(b>c & b>a):\n",
    "    print(\"B is Maximum\")\n",
    "else:\n",
    "    print(\"C is maximum\")"
   ]
  },
  {
   "cell_type": "code",
   "execution_count": 6,
   "metadata": {},
   "outputs": [
    {
     "ename": "SyntaxError",
     "evalue": "invalid syntax (<ipython-input-6-850d871d2ea3>, line 8)",
     "output_type": "error",
     "traceback": [
      "\u001b[1;36m  File \u001b[1;32m\"<ipython-input-6-850d871d2ea3>\"\u001b[1;36m, line \u001b[1;32m8\u001b[0m\n\u001b[1;33m    big=a if (a>b && a>c) b elif (b>c && b>a?b:c) else c\u001b[0m\n\u001b[1;37m                   ^\u001b[0m\n\u001b[1;31mSyntaxError\u001b[0m\u001b[1;31m:\u001b[0m invalid syntax\n"
     ]
    }
   ],
   "source": [
    "#Write a Python program to find and display the maximum number in given three by using terminary operator.\n",
    "a=int(input(\"Enter first number\"))\n",
    "b=int(input(\"Enter the second number\"))\n",
    "c=int(input(\"Enter the third number\"))\n",
    "\n",
    "#big=(a>b && a>c)?a:(b>c && b>a?b:c)\n",
    "\n",
    "big=a if (a>b && a>c) b elif (b>c && b>a?b:c) else c"
   ]
  },
  {
   "cell_type": "code",
   "execution_count": 7,
   "metadata": {},
   "outputs": [
    {
     "name": "stdout",
     "output_type": "stream",
     "text": [
      "Enter the job level3\n",
      "Enter the current salary of the employee3\n",
      "Hike for this JL 3 0.44999999999999996\n",
      "New salary for jl 3 3.45\n"
     ]
    }
   ],
   "source": [
    "#An organization has decided to provide salary hike to its employees based on their job level. Employees can be in job levels 3 , 4 or 5. Hike percentage based on job levels are given below:\n",
    "\n",
    "#job levels 3,4,5\n",
    "#15,7,5\n",
    "\n",
    "#In case of invalid job level, consider hike percentage to be 0.\n",
    "\n",
    "#Given the current salary and job level, write a Python program to find and display the new salary of an employee.\n",
    "\n",
    "jl=int(input(\"Enter the job level\"))\n",
    "\n",
    "csalary=float(input(\"Enter the current salary of the employee\"))\n",
    "\n",
    "if(jl==3 or jl==4 or jl==5):\n",
    "    if(jl==3):\n",
    "        hike=(15/100)*csalary\n",
    "        print(\"Hike for this JL 3\",hike)\n",
    "        newsal=csalary+hike\n",
    "        print(\"New salary for jl 3\",newsal)\n",
    "    if(jl==4):\n",
    "        hike=(10/100)*csalary\n",
    "        print(\"Hike for this JL 4\",hike)\n",
    "        newsal=csalary+hike\n",
    "        print(\"New salary for jl 4\",newsal)\n",
    "    if(jl==5):\n",
    "        hike=(5/100)*csalary\n",
    "        print(\"Hike for this JL 5\",hike)\n",
    "        newsal=csalary+hike\n",
    "        print(\"New salary for jl 5\",newsal)\n",
    "else:\n",
    "    hike =0\n",
    "    print(\"Hike for this JL other\",hike)\n",
    "    newsal=csalary+hike\n",
    "    print(\"New salary for jl other\",newsal)"
   ]
  },
  {
   "cell_type": "code",
   "execution_count": 9,
   "metadata": {},
   "outputs": [
    {
     "name": "stdout",
     "output_type": "stream",
     "text": [
      "Enter the number : 15\n",
      "Zip\n"
     ]
    }
   ],
   "source": [
    "#Write a python program that displays a message as follows for a given number:\n",
    "\n",
    "#If it is a multiple of three, display \"Zip\"\n",
    "\n",
    "#If it is a multiple of five, display \"Zap\".\n",
    "\n",
    "#If it is a multiple of both three and five, display \"Zoom\".\n",
    "\n",
    "#If it does not satisfy any of the above given conditions, display \"Invalid\".\n",
    "\n",
    "\n",
    "number=int(input(\"Enter the number : \"))\n",
    "\n",
    "if(number%3==0):\n",
    "    print(\"Zip\")\n",
    "elif(number%5==0):\n",
    "    print(\"Zap\")\n",
    "elif(number%3==0 and number%5==0):\n",
    "     print(\"Zoom\")\n",
    "else:\n",
    "    print(\"Invalid\")"
   ]
  },
  {
   "cell_type": "code",
   "execution_count": 11,
   "metadata": {},
   "outputs": [
    {
     "name": "stdout",
     "output_type": "stream",
     "text": [
      "1\n",
      "2\n",
      "3\n",
      "4\n",
      "5\n",
      "6\n",
      "7\n",
      "8\n",
      "9\n",
      "10\n"
     ]
    }
   ],
   "source": [
    "#To  print the first 10 numbers\n",
    "\n",
    "for number in range(1,11):\n",
    "    print(number)"
   ]
  },
  {
   "cell_type": "code",
   "execution_count": 12,
   "metadata": {},
   "outputs": [
    {
     "name": "stdout",
     "output_type": "stream",
     "text": [
      "0\n",
      "2\n",
      "4\n",
      "6\n",
      "8\n"
     ]
    }
   ],
   "source": [
    "#To print the even numbers in first 10 numbers\n",
    "\n",
    "for number in range(0,10,2):\n",
    "    print(number)"
   ]
  },
  {
   "cell_type": "code",
   "execution_count": 1,
   "metadata": {},
   "outputs": [
    {
     "name": "stdout",
     "output_type": "stream",
     "text": [
      "1\n",
      "3\n",
      "5\n",
      "7\n",
      "9\n"
     ]
    }
   ],
   "source": [
    "#To print the oddd numbers in first 10 numbers\n",
    "\n",
    "for number in range(1,11,2):\n",
    "    print(number)"
   ]
  },
  {
   "cell_type": "code",
   "execution_count": 10,
   "metadata": {},
   "outputs": [
    {
     "name": "stdout",
     "output_type": "stream",
     "text": [
      "Enter the year: 2016\n",
      "Entered year is Leap Year\n"
     ]
    }
   ],
   "source": [
    "#To check the year is leap year or not\n",
    "\n",
    "year=int(input(\"Enter the year: \"))\n",
    "\n",
    "if(year%4==0 and year%100!=0 or year%100==0):\n",
    "    print(\"Entered year is Leap Year\")\n",
    "    \n",
    "else:\n",
    "    print(\"Entered year is not leap year\")"
   ]
  },
  {
   "cell_type": "code",
   "execution_count": 5,
   "metadata": {},
   "outputs": [
    {
     "name": "stdout",
     "output_type": "stream",
     "text": [
      "Rajesh\n"
     ]
    }
   ],
   "source": [
    "print(\"Rajesh\")"
   ]
  },
  {
   "cell_type": "code",
   "execution_count": 2,
   "metadata": {},
   "outputs": [
    {
     "name": "stdout",
     "output_type": "stream",
     "text": [
      "Enter year to be checked:2020\n",
      "The year is a leap year!\n"
     ]
    }
   ],
   "source": [
    "year=int(input(\"Enter year to be checked:\"))\n",
    "if(year%4==0 and year%100!=0 or year%400==0):\n",
    "    print(\"The year is a leap year!\")\n",
    "else:\n",
    "    print(\"The year isn't a leap year!\")"
   ]
  },
  {
   "cell_type": "code",
   "execution_count": 1,
   "metadata": {},
   "outputs": [
    {
     "name": "stdout",
     "output_type": "stream",
     "text": [
      "Enter a number: 3\n",
      "3 is a prime number\n"
     ]
    }
   ],
   "source": [
    "#Write a Python program to check the given number is prime number or not.\n",
    "\n",
    "num = int(input(\"Enter a number: \"))  \n",
    "  \n",
    "if num > 1:  \n",
    "   for i in range(2,num):  \n",
    "       if (num % i) == 0:  \n",
    "           print(num,\"is not a prime number\")  \n",
    "           print(i,\"times\",num//i,\"is\",num)  \n",
    "           break  \n",
    "   else:  \n",
    "       print(num,\"is a prime number\")  \n",
    "         \n",
    "else:  \n",
    "   print(num,\"is not a prime number\") "
   ]
  },
  {
   "cell_type": "code",
   "execution_count": 3,
   "metadata": {},
   "outputs": [
    {
     "name": "stdout",
     "output_type": "stream",
     "text": [
      "How many terms? 6\n",
      "Fibonacci sequence:\n",
      "0\n",
      "1\n",
      "1\n",
      "2\n",
      "3\n",
      "5\n"
     ]
    }
   ],
   "source": [
    "# Write a Python program to print first n Fibonacci numbers.\n",
    "\n",
    "nterms = int(input(\"How many terms? \"))\n",
    "\n",
    "# first two terms\n",
    "n1, n2 = 0, 1\n",
    "count = 0\n",
    "\n",
    "# check if the number of terms is valid\n",
    "if nterms <= 0:\n",
    "   print(\"Please enter a positive integer\")\n",
    "elif nterms == 1:\n",
    "   print(\"Fibonacci sequence upto\",nterms,\":\")\n",
    "   print(n1)\n",
    "else:\n",
    "   print(\"Fibonacci sequence:\")\n",
    "   while count < nterms:\n",
    "       print(n1)\n",
    "       nth = n1 + n2\n",
    "       # update values\n",
    "       n1 = n2\n",
    "       n2 = nth\n",
    "       count += 1"
   ]
  },
  {
   "cell_type": "code",
   "execution_count": 5,
   "metadata": {},
   "outputs": [
    {
     "data": {
      "text/plain": [
       "4"
      ]
     },
     "execution_count": 5,
     "metadata": {},
     "output_type": "execute_result"
    }
   ],
   "source": [
    "# Write a python function, find_square() that accepts an integer number, n and returns the square of n. Invoke the function and display the square of the number. \n",
    "\n",
    "def find_square(side):\n",
    "    return side*side\n",
    "\n",
    "find_square(2)\n"
   ]
  },
  {
   "cell_type": "code",
   "execution_count": 19,
   "metadata": {},
   "outputs": [],
   "source": [
    "#Write a python function, find_sum() that accepts an integer, n and returns the sum of first, n numbers. Invoke the function and display the sum of first n numbers.\n",
    "\n",
    "def find_sum(a,b):\n",
    "    return a+b"
   ]
  },
  {
   "cell_type": "code",
   "execution_count": 21,
   "metadata": {},
   "outputs": [
    {
     "data": {
      "text/plain": [
       "11"
      ]
     },
     "execution_count": 21,
     "metadata": {},
     "output_type": "execute_result"
    }
   ],
   "source": [
    "find_sum(1,10)"
   ]
  },
  {
   "cell_type": "code",
   "execution_count": 34,
   "metadata": {},
   "outputs": [
    {
     "name": "stdout",
     "output_type": "stream",
     "text": [
      "Enter the number :5\n",
      "Factriarial : 12\n",
      "Factriarial : 24\n",
      "Factriarial : 72\n",
      "Factriarial : 288\n",
      "Factriarial : 1440\n"
     ]
    }
   ],
   "source": [
    "# Write a Python function factorial(num) which returns the factorial of a given number.\n",
    "number=int(input(\"Enter the number :\"))\n",
    "\n",
    "for num in range(1,number+1):\n",
    "    fact=fact*num\n",
    "    print(\"Factriarial :\" ,fact)\n",
    "    \n",
    "    "
   ]
  },
  {
   "cell_type": "code",
   "execution_count": 36,
   "metadata": {},
   "outputs": [
    {
     "name": "stdout",
     "output_type": "stream",
     "text": [
      "The factorial of 5 is 120\n"
     ]
    }
   ],
   "source": [
    "# Python program to find the factorial of a number provided by the user.\n",
    "\n",
    "# change the value for a different result\n",
    "num = 5\n",
    "\n",
    "# To take input from the user\n",
    "#num = int(input(\"Enter a number: \"))\n",
    "\n",
    "factorial = 1\n",
    "\n",
    "# check if the number is negative, positive or zero\n",
    "if num < 0:\n",
    "   print(\"Sorry, factorial does not exist for negative numbers\")\n",
    "elif num == 0:\n",
    "   print(\"The factorial of 0 is 1\")\n",
    "else:\n",
    "   for i in range(1,num + 1):\n",
    "       factorial = factorial*i\n",
    "   print(\"The factorial of\",num,\"is\",factorial)"
   ]
  },
  {
   "cell_type": "code",
   "execution_count": 42,
   "metadata": {},
   "outputs": [
    {
     "name": "stdout",
     "output_type": "stream",
     "text": [
      "24\n"
     ]
    }
   ],
   "source": [
    "#Factorial\n",
    "fact=1\n",
    "for i in range(1,5):\n",
    "   \n",
    "    fact=fact*i\n",
    "print(fact)"
   ]
  },
  {
   "cell_type": "code",
   "execution_count": 45,
   "metadata": {},
   "outputs": [
    {
     "name": "stdout",
     "output_type": "stream",
     "text": [
      "120\n"
     ]
    }
   ],
   "source": [
    "#Factorial\n",
    "\n",
    "factorial=1\n",
    "\n",
    "for i in range(1,6):\n",
    "    factorial=factorial*i\n",
    "\n",
    "print(factorial)"
   ]
  },
  {
   "cell_type": "code",
   "execution_count": 4,
   "metadata": {},
   "outputs": [
    {
     "data": {
      "text/plain": [
       "120"
      ]
     },
     "execution_count": 4,
     "metadata": {},
     "output_type": "execute_result"
    }
   ],
   "source": [
    "#Factorial by using math function\n",
    "\n",
    "import math\n",
    "\n",
    "math.factorial(5)"
   ]
  },
  {
   "cell_type": "code",
   "execution_count": 3,
   "metadata": {},
   "outputs": [
    {
     "ename": "IndexError",
     "evalue": "list index out of range",
     "output_type": "error",
     "traceback": [
      "\u001b[1;31m---------------------------------------------------------------------------\u001b[0m",
      "\u001b[1;31mIndexError\u001b[0m                                Traceback (most recent call last)",
      "\u001b[1;32m<ipython-input-3-bae88dc3472b>\u001b[0m in \u001b[0;36m<module>\u001b[1;34m\u001b[0m\n\u001b[0;32m      9\u001b[0m \u001b[0mcount\u001b[0m\u001b[1;33m=\u001b[0m\u001b[1;36m0\u001b[0m\u001b[1;33m\u001b[0m\u001b[1;33m\u001b[0m\u001b[0m\n\u001b[0;32m     10\u001b[0m \u001b[1;32mfor\u001b[0m \u001b[0mi\u001b[0m \u001b[1;32min\u001b[0m \u001b[0mnums\u001b[0m\u001b[1;33m:\u001b[0m\u001b[1;33m\u001b[0m\u001b[1;33m\u001b[0m\u001b[0m\n\u001b[1;32m---> 11\u001b[1;33m     \u001b[1;32mif\u001b[0m\u001b[1;33m(\u001b[0m\u001b[0mnums\u001b[0m\u001b[1;33m[\u001b[0m\u001b[0mi\u001b[0m\u001b[1;33m]\u001b[0m\u001b[1;33m==\u001b[0m\u001b[0mnums\u001b[0m\u001b[1;33m[\u001b[0m\u001b[0mi\u001b[0m\u001b[1;33m+\u001b[0m\u001b[1;36m1\u001b[0m\u001b[1;33m]\u001b[0m\u001b[1;33m)\u001b[0m\u001b[1;33m:\u001b[0m\u001b[1;33m\u001b[0m\u001b[1;33m\u001b[0m\u001b[0m\n\u001b[0m\u001b[0;32m     12\u001b[0m         \u001b[0mcount\u001b[0m\u001b[1;33m=\u001b[0m\u001b[0mcount\u001b[0m\u001b[1;33m+\u001b[0m\u001b[1;36m1\u001b[0m\u001b[1;33m\u001b[0m\u001b[1;33m\u001b[0m\u001b[0m\n\u001b[0;32m     13\u001b[0m \u001b[0mprint\u001b[0m\u001b[1;33m(\u001b[0m\u001b[0mcount\u001b[0m\u001b[1;33m)\u001b[0m\u001b[1;33m\u001b[0m\u001b[1;33m\u001b[0m\u001b[0m\n",
      "\u001b[1;31mIndexError\u001b[0m: list index out of range"
     ]
    }
   ],
   "source": [
    "#Given a list of integer values. Write a python program to check whether it contains same number in adjacent position. Display the count of such adjacent occurrences.\n",
    "\n",
    "#Display the count of such adjacent occurrences\n",
    "#input=[1,1,5,100,-20,-20,6,0,0],output=3\n",
    "#input=[10,20,30,40,30,20],output=0\n",
    "#input=[1,2,2,3,4,4,4,10],output=3\n",
    "\n",
    "nums=[1,1,5,100,-20,-20,6,0,0]\n",
    "count=0\n",
    "for i in nums:\n",
    "    if(nums[i]==nums[i+1]):\n",
    "        count=count+1\n",
    "print(count)\n",
    "        \n"
   ]
  },
  {
   "cell_type": "code",
   "execution_count": null,
   "metadata": {},
   "outputs": [],
   "source": []
  }
 ],
 "metadata": {
  "kernelspec": {
   "display_name": "Python 3",
   "language": "python",
   "name": "python3"
  },
  "language_info": {
   "codemirror_mode": {
    "name": "ipython",
    "version": 3
   },
   "file_extension": ".py",
   "mimetype": "text/x-python",
   "name": "python",
   "nbconvert_exporter": "python",
   "pygments_lexer": "ipython3",
   "version": "3.7.4"
  }
 },
 "nbformat": 4,
 "nbformat_minor": 2
}
