{
 "cells": [
  {
   "cell_type": "markdown",
   "metadata": {},
   "source": [
    "# Web Programming\n",
    "\n",
    "Web programming refers to the writing, markup, and coding involved in Web development, which includes web content, web client, server scripting and network security. Web programming is different from just programming, which requires interdisciplinary knowledge on the application area, client and server scripting and database technology.\n",
    "\n",
    "Web Programming in Python can be done using any of the three modules.\n",
    "\n",
    "1. CGI\n",
    "2. Flask Python\n",
    "3. Django Framework.\n"
   ]
  },
  {
   "cell_type": "code",
   "execution_count": null,
   "metadata": {},
   "outputs": [],
   "source": []
  }
 ],
 "metadata": {
  "kernelspec": {
   "display_name": "Python 3",
   "language": "python",
   "name": "python3"
  },
  "language_info": {
   "codemirror_mode": {
    "name": "ipython",
    "version": 3
   },
   "file_extension": ".py",
   "mimetype": "text/x-python",
   "name": "python",
   "nbconvert_exporter": "python",
   "pygments_lexer": "ipython3",
   "version": "3.7.4"
  }
 },
 "nbformat": 4,
 "nbformat_minor": 2
}
