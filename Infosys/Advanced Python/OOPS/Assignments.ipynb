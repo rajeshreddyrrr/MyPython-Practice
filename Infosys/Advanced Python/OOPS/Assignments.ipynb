{
 "cells": [
  {
   "cell_type": "markdown",
   "metadata": {},
   "source": [
    "WeCare insurance company wants to calculate premium of vehicles.\n",
    "Vehicles are of two types – \"Two Wheeler\" and \"Four Wheeler\". Each vehicle is identified by vehicle id, type, cost and premium amount.\n",
    "Premium amount is 2% of the vehicle cost for two wheeler and 6% of the vehicle cost for four wheeler. Calculate the premium amount and display the vehicle details.\n",
    "\n",
    "Write a Python program to implement the class chosen with its attributes and methods.\n",
    "\n",
    "Note:\n",
    "\n",
    "1. Display appropriate error message, if the vehicle type is invalid\n",
    "\n",
    "2. Perform case sensitive string comparison\n"
   ]
  },
  {
   "cell_type": "code",
   "execution_count": 7,
   "metadata": {},
   "outputs": [
    {
     "ename": "TypeError",
     "evalue": "unhashable type: 'dict'",
     "output_type": "error",
     "traceback": [
      "\u001b[1;31m---------------------------------------------------------------------------\u001b[0m",
      "\u001b[1;31mTypeError\u001b[0m                                 Traceback (most recent call last)",
      "\u001b[1;32m<ipython-input-7-af0414630bca>\u001b[0m in \u001b[0;36m<module>\u001b[1;34m\u001b[0m\n\u001b[0;32m      4\u001b[0m         {\"id\":2,\n\u001b[0;32m      5\u001b[0m        \u001b[1;34m\"type\"\u001b[0m\u001b[1;33m:\u001b[0m\u001b[1;34m\"fourwheler\"\u001b[0m\u001b[1;33m,\u001b[0m\u001b[1;33m\u001b[0m\u001b[1;33m\u001b[0m\u001b[0m\n\u001b[1;32m----> 6\u001b[1;33m        \"cost\":10000},\n\u001b[0m\u001b[0;32m      7\u001b[0m        }\n",
      "\u001b[1;31mTypeError\u001b[0m: unhashable type: 'dict'"
     ]
    }
   ],
   "source": [
    "wecare={{\"id\":1,\n",
    "       \"type\":\"twowheler\",\n",
    "       \"cost\":10000},\n",
    "        {\"id\":2,\n",
    "       \"type\":\"fourwheler\",\n",
    "       \"cost\":10000},\n",
    "       }"
   ]
  },
  {
   "cell_type": "code",
   "execution_count": null,
   "metadata": {},
   "outputs": [],
   "source": []
  }
 ],
 "metadata": {
  "kernelspec": {
   "display_name": "Python 3",
   "language": "python",
   "name": "python3"
  },
  "language_info": {
   "codemirror_mode": {
    "name": "ipython",
    "version": 3
   },
   "file_extension": ".py",
   "mimetype": "text/x-python",
   "name": "python",
   "nbconvert_exporter": "python",
   "pygments_lexer": "ipython3",
   "version": "3.7.4"
  }
 },
 "nbformat": 4,
 "nbformat_minor": 2
}
