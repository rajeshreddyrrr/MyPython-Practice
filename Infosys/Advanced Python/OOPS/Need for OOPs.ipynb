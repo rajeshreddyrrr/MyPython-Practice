{
 "cells": [
  {
   "cell_type": "markdown",
   "metadata": {},
   "source": [
    "A better solution would be to modularize the code and separate the logic for Mobiles and Shoes.\n",
    "\n",
    "Modify the code as per the below guidelines:\n",
    "\n",
    "Create two functions: purchase_mobile and purchase_shoe.\n",
    "\n",
    "purchase_mobile() takes two parameters: price and brand.\n",
    "\n",
    "purchase_shoe() takes two parameters: price and material.\n",
    "\n",
    "If the mobile brand is “Apple”, discount is 10%, else discount is 5%.\n",
    "\n",
    "If the shoe material is “leather”, tax is 5%, else tax is 2%."
   ]
  },
  {
   "cell_type": "code",
   "execution_count": 23,
   "metadata": {},
   "outputs": [
    {
     "name": "stdout",
     "output_type": "stream",
     "text": [
      "Total price of Mobile is 18000.0\n",
      "Total price of Shoe is 210.0\n"
     ]
    }
   ],
   "source": [
    "def purchase_mobile(price,brand):\n",
    "    if brand == \"Apple\":\n",
    "        discount = 10\n",
    "    else:\n",
    "        discount = 5\n",
    "    total_price = price - price * discount / 100\n",
    "    print(\"Total price of Mobile is \"+str(total_price))\n",
    "def purchase_shoe(price,material):\n",
    "    if material == \"leather\":\n",
    "        tax = 5\n",
    "    else:\n",
    "        tax = 2\n",
    "    total_price = price + price * tax / 100\n",
    "    print(\"Total price of Shoe is \"+str(total_price))\n",
    "purchase_mobile(20000,\"Apple\")\n",
    "purchase_shoe(200,\"leather\")\n"
   ]
  },
  {
   "cell_type": "code",
   "execution_count": null,
   "metadata": {},
   "outputs": [],
   "source": []
  }
 ],
 "metadata": {
  "kernelspec": {
   "display_name": "Python 3",
   "language": "python",
   "name": "python3"
  },
  "language_info": {
   "codemirror_mode": {
    "name": "ipython",
    "version": 3
   },
   "file_extension": ".py",
   "mimetype": "text/x-python",
   "name": "python",
   "nbconvert_exporter": "python",
   "pygments_lexer": "ipython3",
   "version": "3.7.4"
  }
 },
 "nbformat": 4,
 "nbformat_minor": 2
}
