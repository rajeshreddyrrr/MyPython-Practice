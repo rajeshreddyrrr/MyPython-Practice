{
 "cells": [
  {
   "cell_type": "code",
   "execution_count": 10,
   "metadata": {},
   "outputs": [
    {
     "name": "stdout",
     "output_type": "stream",
     "text": [
      "<__main__.Customer object at 0x000001F8FFAE2648>\n",
      "The balance is..  600\n"
     ]
    }
   ],
   "source": [
    "#Just the way a lock prevents others from accessing your property, we can restrict other parts of the code from directly accessing sensitive data. Consider the below code where the customer has a wallet_balance and there are methods which allow us to access and update that balance based on some logic.\n",
    "\n",
    "\n",
    "class Customer:\n",
    "    def __init__(self,custid,name,age,wallet_balance):\n",
    "        self.custid=custid\n",
    "        self.name=name\n",
    "        self.age=age\n",
    "        self.wallet_balance=wallet_balance\n",
    "        \n",
    "    def UpdateBalance(self,amount):\n",
    "        if amount<1000 and amount>0:\n",
    "            self.wallet_balance+=amount\n",
    "            \n",
    "    def showBalance(self):\n",
    "        print(\"The balance is.. \",self.wallet_balance)\n",
    "        \n",
    "\n",
    "c1=Customer(1,\"Rajesh\",26,100)\n",
    "print(c1)\n",
    "\n",
    "c1.UpdateBalance(500)\n",
    "\n",
    "c1.showBalance()"
   ]
  },
  {
   "cell_type": "code",
   "execution_count": 12,
   "metadata": {},
   "outputs": [
    {
     "name": "stdout",
     "output_type": "stream",
     "text": [
      "The balance is  10\n"
     ]
    }
   ],
   "source": [
    "#But with the way currently it is coded, the data can be accidentally changed by directly assigning a incorrect value to it as shown below:\n",
    "\n",
    "class Customer:\n",
    "    def __init__(self, cust_id, name, age, wallet_balance):\n",
    "        self.cust_id = cust_id\n",
    "        self.name = name\n",
    "        self.age = age\n",
    "        self.wallet_balance = wallet_balance\n",
    "    def update_balance(self, amount):\n",
    "        if amount < 1000 and amount > 0:\n",
    "            self.wallet_balance += amount\n",
    "    def show_balance(self):\n",
    "        print (\"The balance is \",self.wallet_balance)\n",
    "c1=Customer(100, \"Gopal\", 24, 1000)\n",
    "c1.wallet_balance = 10\n",
    "c1.show_balance()\n"
   ]
  },
  {
   "cell_type": "code",
   "execution_count": 13,
   "metadata": {},
   "outputs": [
    {
     "ename": "AttributeError",
     "evalue": "'Customer' object has no attribute '__wallet_balance'",
     "output_type": "error",
     "traceback": [
      "\u001b[1;31m---------------------------------------------------------------------------\u001b[0m",
      "\u001b[1;31mAttributeError\u001b[0m                            Traceback (most recent call last)",
      "\u001b[1;32m<ipython-input-13-d7ba0c5a2be0>\u001b[0m in \u001b[0;36m<module>\u001b[1;34m\u001b[0m\n\u001b[0;32m     13\u001b[0m         \u001b[0mprint\u001b[0m \u001b[1;33m(\u001b[0m\u001b[1;34m\"The balance is \"\u001b[0m\u001b[1;33m,\u001b[0m\u001b[0mself\u001b[0m\u001b[1;33m.\u001b[0m\u001b[0m__wallet_balance\u001b[0m\u001b[1;33m)\u001b[0m\u001b[1;33m\u001b[0m\u001b[1;33m\u001b[0m\u001b[0m\n\u001b[0;32m     14\u001b[0m \u001b[0mc1\u001b[0m\u001b[1;33m=\u001b[0m\u001b[0mCustomer\u001b[0m\u001b[1;33m(\u001b[0m\u001b[1;36m100\u001b[0m\u001b[1;33m,\u001b[0m \u001b[1;34m\"Gopal\"\u001b[0m\u001b[1;33m,\u001b[0m \u001b[1;36m24\u001b[0m\u001b[1;33m,\u001b[0m \u001b[1;36m1000\u001b[0m\u001b[1;33m)\u001b[0m\u001b[1;33m\u001b[0m\u001b[1;33m\u001b[0m\u001b[0m\n\u001b[1;32m---> 15\u001b[1;33m \u001b[0mprint\u001b[0m\u001b[1;33m(\u001b[0m\u001b[0mc1\u001b[0m\u001b[1;33m.\u001b[0m\u001b[0m__wallet_balance\u001b[0m\u001b[1;33m)\u001b[0m\u001b[1;33m\u001b[0m\u001b[1;33m\u001b[0m\u001b[0m\n\u001b[0m",
      "\u001b[1;31mAttributeError\u001b[0m: 'Customer' object has no attribute '__wallet_balance'"
     ]
    }
   ],
   "source": [
    "#We can put a lock on that data by adding a double underscore in front of it, as shown below:\n",
    "#Adding a double underscore makes the attribute a private attribute. Private attributes are those which are accessible only inside the class. This method of restricting access to our data is called Encapsulation.\n",
    "\n",
    "\n",
    "class Customer:\n",
    "    def __init__(self, cust_id, name, age, wallet_balance):\n",
    "        self.cust_id = cust_id\n",
    "        self.name = name\n",
    "        self.age = age\n",
    "        self.__wallet_balance = wallet_balance\n",
    "    def update_balance(self, amount):\n",
    "        if amount < 1000 and amount > 0:\n",
    "            self.__wallet_balance += amount\n",
    "    def show_balance(self):\n",
    "        print (\"The balance is \",self.__wallet_balance)\n",
    "c1=Customer(100, \"Gopal\", 24, 1000)\n",
    "print(c1.__wallet_balance)\n"
   ]
  },
  {
   "cell_type": "code",
   "execution_count": 17,
   "metadata": {},
   "outputs": [
    {
     "name": "stdout",
     "output_type": "stream",
     "text": [
      "The balance is  1000\n"
     ]
    }
   ],
   "source": [
    "#If we try to assign a value to a private variable, we end up creating a new attribute in python. Thus this code does not give an error, but it is logically flawed and does not produce the intended result.\n",
    "\n",
    "\n",
    "class Customer:\n",
    "    def __init__(self, cust_id, name, age, wallet_balance):\n",
    "        self.cust_id = cust_id\n",
    "        self.name = name\n",
    "        self.age = age\n",
    "        self.__wallet_balance = wallet_balance\n",
    "    def update_balance(self, amount):\n",
    "        if amount < 1000 and amount > 0:\n",
    "            self.__wallet_balance += amount\n",
    "    def show_balance(self):\n",
    "        print (\"The balance is \",self.__wallet_balance)\n",
    "c1=Customer(100, \"Gopal\", 24, 1000)\n",
    "c1.__wallet_balance = 10000000000\n",
    "c1.show_balance()\n"
   ]
  },
  {
   "cell_type": "code",
   "execution_count": 18,
   "metadata": {},
   "outputs": [
    {
     "name": "stdout",
     "output_type": "stream",
     "text": [
      "The balance is  10000000000\n"
     ]
    }
   ],
   "source": [
    "#Since we know that the name of the variable changes when we make it private, we can access it using its modified name as shown below:\n",
    "class Customer:\n",
    "    def __init__(self, cust_id, name, age, wallet_balance):\n",
    "        self.cust_id = cust_id\n",
    "        self.name = name\n",
    "        self.age = age\n",
    "        self.__wallet_balance = wallet_balance\n",
    "    def update_balance(self, amount):\n",
    "        if amount < 1000 and amount > 0:\n",
    "            self.__wallet_balance += amount\n",
    "    def show_balance(self):\n",
    "        print (\"The balance is \",self.__wallet_balance)\n",
    "c1=Customer(100, \"Gopal\", 24, 1000)\n",
    "c1._Customer__wallet_balance = 10000000000\n",
    "c1.show_balance()\n",
    "\n"
   ]
  },
  {
   "cell_type": "markdown",
   "metadata": {},
   "source": [
    "Summary:\n",
    "Encapsulation is preventing access to a data outside the class\n",
    "\n",
    "Adding a __ in front of a attribute makes it private\n",
    "\n",
    "Getter and Setter methods should be used to access a private attribute"
   ]
  },
  {
   "cell_type": "code",
   "execution_count": null,
   "metadata": {},
   "outputs": [],
   "source": []
  }
 ],
 "metadata": {
  "kernelspec": {
   "display_name": "Python 3",
   "language": "python",
   "name": "python3"
  },
  "language_info": {
   "codemirror_mode": {
    "name": "ipython",
    "version": 3
   },
   "file_extension": ".py",
   "mimetype": "text/x-python",
   "name": "python",
   "nbconvert_exporter": "python",
   "pygments_lexer": "ipython3",
   "version": "3.7.4"
  }
 },
 "nbformat": 4,
 "nbformat_minor": 2
}
