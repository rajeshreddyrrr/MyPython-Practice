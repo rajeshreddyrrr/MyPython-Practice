{
 "cells": [
  {
   "cell_type": "markdown",
   "metadata": {},
   "source": [
    "\n",
    "In the Athlete class given below,\n",
    "\n",
    "a. make all the attributes private and\n",
    "\n",
    "b. add the necessary accessor and mutator methods\n",
    "\n",
    "Represent Maria, the runner and make her run.\n",
    "\n",
    "class Athlete:\n",
    "    def __init__(self,name,gender):\n",
    "        self.name=name\n",
    "        self.gender=gender\n",
    "    def running(self):\n",
    "        if(self.gender==\"girl\"):\n",
    "            print(\"150mtr running\")\n",
    "        else:\n",
    "            print(\"200mtr running\")\n",
    " "
   ]
  },
  {
   "cell_type": "code",
   "execution_count": 6,
   "metadata": {},
   "outputs": [
    {
     "name": "stdout",
     "output_type": "stream",
     "text": [
      "200mtr running\n"
     ]
    }
   ],
   "source": [
    "class Athlete:\n",
    "    def __init__(self,name,gender):\n",
    "        self.__name=name\n",
    "        self.__gender=gender\n",
    "    def running(self):\n",
    "        if(self.__gender==\"girl\"):\n",
    "            print(\"150mtr running\")\n",
    "        else:\n",
    "            print(\"200mtr running\")\n",
    "\n",
    "C=Athlete(\"Rajesh\",\"boy\")\n",
    "\n",
    "C.running()"
   ]
  },
  {
   "cell_type": "markdown",
   "metadata": {},
   "source": [
    " \n",
    "\n",
    "A university wants to automate their admission process. Students are admitted based on marks scored in a qualifying exam.\n",
    "A student is identified by student id, age and marks in qualifying exam. Data are valid, if:\n",
    "\n",
    "  a. Age is greater than 20\n",
    "\n",
    "  b. Marks is between 0 and 100 (both inclusive)\n",
    "\n",
    "A student qualifies for admission, if\n",
    "\n",
    "  a. Age and marks are valid and\n",
    "\n",
    "  b. Marks is 65 or more\n",
    "\n",
    "Write a python program to represent the students seeking admission in the university.\n",
    "\n",
    "Business rules\n",
    "\n",
    " "
   ]
  },
  {
   "cell_type": "code",
   "execution_count": 48,
   "metadata": {},
   "outputs": [
    {
     "data": {
      "text/plain": [
       "'true'"
      ]
     },
     "execution_count": 48,
     "metadata": {},
     "output_type": "execute_result"
    }
   ],
   "source": [
    "class Student:\n",
    "    def __init__(self,sid,age,marks):\n",
    "        self.__sid=sid\n",
    "        self.__age=age\n",
    "        self.__marks=marks\n",
    "    \n",
    "    def validatemarks(self):\n",
    "        self.__marks <100 and self.__marks>0\n",
    "        if self.__marks>=65:\n",
    "            return \"true\"\n",
    "        else:\n",
    "            return \"false\"\n",
    "    def validateage(self):\n",
    "        if self.__age>20:\n",
    "             return \"true\"\n",
    "        else:\n",
    "            return \"false\"\n",
    "    \n",
    "    def checkQualification(self):\n",
    "        self.validatemarks()\n",
    "        self.validateage()\n",
    "        if(self.validatemarks()==\"true\" and self.validateage()==\"true\"):\n",
    "            return \"true\"\n",
    "        else:\n",
    "            return \"false\"\n",
    "            \n",
    "S=Student(1,27,67)\n",
    "S.validatemarks()\n",
    "S.validateage()\n",
    "S.checkQualification()"
   ]
  },
  {
   "cell_type": "markdown",
   "metadata": {},
   "source": [
    "Continuing with the previous scenario, a student eligible for admission has to choose a course and pay the fees for it. If they have scored more than 85 marks in qualifying exam, they get 25% discount on fees.\n",
    "\n",
    "Valid course ids and fees are given below:\n",
    "\n",
    "\n",
    "Extend the program written in the previous assignment to include the above requirement.\n",
    "\n",
    "Business rules\n",
    "\n",
    "\n",
    " \n",
    "\n",
    " "
   ]
  },
  {
   "cell_type": "code",
   "execution_count": 63,
   "metadata": {},
   "outputs": [
    {
     "name": "stdout",
     "output_type": "stream",
     "text": [
      "11625.0\n"
     ]
    }
   ],
   "source": [
    "class Student:\n",
    "    def __init__(self,sid,age,marks,cid,fee):\n",
    "        self.__sid=sid\n",
    "        self.__age=age\n",
    "        self.__marks=marks\n",
    "        self.__cid=cid\n",
    "        self.__fee=fee\n",
    "    \n",
    "    def validatemarks(self):\n",
    "        self.__marks <100 and self.__marks>0\n",
    "        if self.__marks>=65:\n",
    "            return \"true\"\n",
    "        else:\n",
    "            return \"false\"\n",
    "    def validateage(self):\n",
    "        if self.__age>20:\n",
    "             return \"true\"\n",
    "        else:\n",
    "            return \"false\"\n",
    "    \n",
    "    def checkQualification(self):\n",
    "        self.validatemarks()\n",
    "        self.validateage()\n",
    "        if(self.validatemarks()==\"true\" and self.validateage()==\"true\"):\n",
    "            return \"true\"\n",
    "        else:\n",
    "            return \"false\"\n",
    "        \n",
    "    def Choose_course(self):\n",
    "        if self.__cid==1001 or self.__cid==1002:\n",
    "            if self.__cid==1001:\n",
    "                if self.__marks>85:\n",
    "                    self.__fee=25575-((25575)*25/100)\n",
    "                    print(self.__fee)\n",
    "                else:\n",
    "                    self.__fee=25575\n",
    "                    print(self.__fee)\n",
    "            else:\n",
    "                if self.__marks>85:\n",
    "                    self.__fee=15500-((15500)*25/100)\n",
    "                    print(self.__fee)\n",
    "                else:\n",
    "                    self.__fee=15500\n",
    "                    print(self.__fee)\n",
    "                \n",
    "                \n",
    "        \n",
    "            \n",
    "S=Student(1,27,86,1002,0)\n",
    "S.validatemarks()\n",
    "S.validateage()\n",
    "S.checkQualification()\n",
    "S.Choose_course()"
   ]
  },
  {
   "cell_type": "code",
   "execution_count": null,
   "metadata": {},
   "outputs": [],
   "source": []
  },
  {
   "cell_type": "code",
   "execution_count": null,
   "metadata": {},
   "outputs": [],
   "source": []
  }
 ],
 "metadata": {
  "kernelspec": {
   "display_name": "Python 3",
   "language": "python",
   "name": "python3"
  },
  "language_info": {
   "codemirror_mode": {
    "name": "ipython",
    "version": 3
   },
   "file_extension": ".py",
   "mimetype": "text/x-python",
   "name": "python",
   "nbconvert_exporter": "python",
   "pygments_lexer": "ipython3",
   "version": "3.7.4"
  }
 },
 "nbformat": 4,
 "nbformat_minor": 2
}
