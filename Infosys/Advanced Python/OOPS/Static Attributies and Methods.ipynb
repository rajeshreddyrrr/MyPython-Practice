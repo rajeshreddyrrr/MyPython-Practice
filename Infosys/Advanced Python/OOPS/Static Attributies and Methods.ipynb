{
 "cells": [
  {
   "cell_type": "markdown",
   "metadata": {},
   "source": [
    "Let us assume that in our online shopping app, we want to provide a limited 50% flat off on all mobile phones\n",
    "\n",
    "How can we write our code so that all mobile objects get a 50% off? One solution is to create a discount attribute and hard code the value as 50% as shown below:\n",
    "\n"
   ]
  },
  {
   "cell_type": "code",
   "execution_count": 2,
   "metadata": {},
   "outputs": [
    {
     "name": "stdout",
     "output_type": "stream",
     "text": [
      "VIvo mobile with price 15000 is available after discount at 7500.0\n",
      "Apple mobile with price 100000 is available after discount at 50000.0\n"
     ]
    }
   ],
   "source": [
    "class Mobile:\n",
    "    def __init__(self,price,brand):\n",
    "        self.price=price\n",
    "        self.brand=brand\n",
    "        self.discount=50\n",
    "        \n",
    "    def purchase(self):\n",
    "        totalprice=self.price-(self.price*(self.discount/100))\n",
    "        print (self.brand, \"mobile with price\", self.price, \"is available after discount at\", totalprice)\n",
    "        \n",
    "        \n",
    "M1=Mobile(100000,\"Apple\")\n",
    "M2=Mobile(15000,\"VIvo\")\n",
    "\n",
    "M2.purchase()\n",
    "M1.purchase()"
   ]
  },
  {
   "cell_type": "code",
   "execution_count": 4,
   "metadata": {},
   "outputs": [
    {
     "name": "stdout",
     "output_type": "stream",
     "text": [
      "Apple mobile with price 20000 is available after discount at 20000.0\n",
      "Apple mobile with price 30000 is available after discount at 15000.0\n",
      "Samsung mobile with price 5000 is available after discount at 2500.0\n",
      "Samsung mobile with price 6000 is available after discount at 6000.0\n"
     ]
    }
   ],
   "source": [
    "#However, the solution of hardcoding the value in the attribute is not a good one. For example, since this is a limited time discount we should be able to programmatically enable and disable the discount using functions like this:\n",
    "\n",
    "class Mobile:\n",
    "    def __init__(self, price, brand):\n",
    "        self.price = price\n",
    "        self.brand = brand\n",
    "        self.discount = 0\n",
    "    def purchase(self):\n",
    "        total = self.price - self.price * self.discount / 100\n",
    "        print (self.brand, \"mobile with price\", self.price, \"is available after discount at\", total)\n",
    "    def enable_discount(list_of_mobiles):\n",
    "        for mobile in list_of_mobiles:\n",
    "            mobile.discount=50\n",
    "    def disable_discount(list_of_mobiles):\n",
    "        for mobile in list_of_mobiles:\n",
    "            mobile.discount=0\n",
    "mob1=Mobile(20000, \"Apple\")\n",
    "mob2=Mobile(30000, \"Apple\")\n",
    "mob3=Mobile(5000, \"Samsung\")\n",
    "mob4=Mobile(6000, \"Samsung\")\n",
    "list_of_mobiles=[mob1,mob2,mob3,mob4]\n",
    "mob1.purchase()\n",
    "enable_discount(list_of_mobiles)\n",
    "mob2.purchase()\n",
    "mob3.purchase()\n",
    "disable_discount(list_of_mobiles)\n",
    "mob4.purchase()\n"
   ]
  },
  {
   "cell_type": "markdown",
   "metadata": {},
   "source": [
    "# Static variables\n",
    "\n",
    "What we need is a way to make an attribute shared across objects. The data is shared by all objects, not owned by each object. Thus, by making a single change, it should reflect in all objects at one go.\n",
    "\n",
    "\n",
    "We can create shared attributes by placing them directly inside the class and not inside the constructor. And since this attribute is not owned by any one object, we don’t need the self to create this attribute. Such variables which are created at a class level are called static variables. Here discount is a static variable.\n",
    "\n"
   ]
  },
  {
   "cell_type": "code",
   "execution_count": 5,
   "metadata": {},
   "outputs": [],
   "source": [
    "class Mobile:\n",
    "    discount = 50\n",
    "    def __init__(self, price, brand):\n",
    "        self.price = price\n",
    "        self.brand = brand\n"
   ]
  },
  {
   "cell_type": "markdown",
   "metadata": {},
   "source": [
    "# Accessing static variables\n",
    "\n",
    "Now, we have created static variables, we can access them using the Class name itself. \n",
    "Static variable belong to the class and not an object. \n",
    "Hence we don’t need self to access static variables.\n",
    "We can access static variable by using class name classname.variablename\n",
    "\n"
   ]
  },
  {
   "cell_type": "code",
   "execution_count": 7,
   "metadata": {},
   "outputs": [
    {
     "name": "stdout",
     "output_type": "stream",
     "text": [
      "Apple mobile with price 20000 is available after discount at 10000.0\n",
      "Apple mobile with price 30000 is available after discount at 15000.0\n",
      "Samsung mobile with price 5000 is available after discount at 2500.0\n"
     ]
    }
   ],
   "source": [
    "class Mobile:\n",
    "    discount = 50\n",
    "    def __init__(self, price, brand):\n",
    "        self.price = price\n",
    "        self.brand = brand\n",
    "    def purchase(self):\n",
    "        total = self.price - self.price * Mobile.discount / 100\n",
    "        print (self.brand, \"mobile with price\", self.price, \"is available after discount at\", total)\n",
    "mob1=Mobile(20000, \"Apple\")\n",
    "mob2=Mobile(30000, \"Apple\")\n",
    "mob3=Mobile(5000, \"Samsung\")\n",
    "mob1.purchase()\n",
    "mob2.purchase()\n",
    "mob3.purchase()\n"
   ]
  },
  {
   "cell_type": "markdown",
   "metadata": {},
   "source": [
    "# Static variables and encapsulation\n",
    "\n",
    "We can make our static variable as a private variable by adding a double underscore in front of it. We can also create getter and setter methods to access or modify it.\n",
    "\n",
    "\n"
   ]
  },
  {
   "cell_type": "code",
   "execution_count": 8,
   "metadata": {},
   "outputs": [
    {
     "name": "stdout",
     "output_type": "stream",
     "text": [
      "50\n"
     ]
    }
   ],
   "source": [
    "class Mobile:\n",
    "    __discount = 50\n",
    "    def get_discount(self):\n",
    "        return Mobile.__discount\n",
    "    def set_discount(self,discount):\n",
    "        Mobile.__discount = discount\n",
    "m1=Mobile()\n",
    "print(m1.get_discount())\n"
   ]
  },
  {
   "cell_type": "markdown",
   "metadata": {},
   "source": [
    "# Static method\n",
    "\n",
    "There are two rules in creating such static methods:\n",
    "\n",
    "The methods should not have self\n",
    "\n",
    "@staticmethod must be written on top of it"
   ]
  },
  {
   "cell_type": "code",
   "execution_count": 9,
   "metadata": {},
   "outputs": [],
   "source": [
    "@staticmethod\n",
    "def get_discount():\n",
    "    return Mobile.__discount\n",
    "@staticmethod\n",
    "def set_discount(discount):\n",
    "    Mobile.__discount=discount\n"
   ]
  },
  {
   "cell_type": "code",
   "execution_count": 10,
   "metadata": {},
   "outputs": [
    {
     "name": "stdout",
     "output_type": "stream",
     "text": [
      "50\n"
     ]
    }
   ],
   "source": [
    "#We can access static methods directly using the class name, even without creating objects.\n",
    "\n",
    "\n",
    "class Mobile:\n",
    "    __discount = 50\n",
    "    def __init__(self, price, brand):\n",
    "        self.price = price\n",
    "        self.brand = brand\n",
    "    def purchase(self):\n",
    "        total = self.price - self.price * Mobile.__discount / 100\n",
    "        print (\"Total is \",total)\n",
    "    @staticmethod\n",
    "    def get_discount():\n",
    "        return Mobile.__discount\n",
    "    @staticmethod\n",
    "    def set_discount(discount):\n",
    "        Mobile.__discount = discount\n",
    "print (Mobile.get_discount())\n"
   ]
  },
  {
   "cell_type": "code",
   "execution_count": 15,
   "metadata": {},
   "outputs": [
    {
     "name": "stdout",
     "output_type": "stream",
     "text": [
      "Apple mobile with price 20000 is available after discount at 20000.0\n",
      "Apple mobile with price 30000 is available after discount at 15000.0\n",
      "Samsung mobile with price 5000 is available after discount at 5000.0\n"
     ]
    }
   ],
   "source": [
    "class Mobile:\n",
    "    __discount = 50\n",
    "    def __init__(self, price, brand):\n",
    "        self.price = price\n",
    "        self.brand = brand\n",
    "    def purchase(self):\n",
    "        total = self.price - self.price * Mobile.__discount / 100\n",
    "        print (self.brand, \"mobile with price\", self.price, \"is available after discount at\", total)\n",
    "    @staticmethod\n",
    "    def enable_discount():\n",
    "        Mobile.set_discount(50)\n",
    "    @staticmethod\n",
    "    def disable_discount():\n",
    "        Mobile.set_discount(0)\n",
    "    @staticmethod\n",
    "    def get_discount():\n",
    "        return Mobile.__discount\n",
    "    @staticmethod\n",
    "    def set_discount(discount):\n",
    "        Mobile.__discount = discount\n",
    "mob1=Mobile(20000, \"Apple\")\n",
    "mob2=Mobile(30000, \"Apple\")\n",
    "mob3=Mobile(5000, \"Samsung\")\n",
    "Mobile.disable_discount()\n",
    "mob1.purchase()\n",
    "Mobile.enable_discount()\n",
    "mob2.purchase()\n",
    "Mobile.disable_discount()\n",
    "mob3.purchase()\n"
   ]
  },
  {
   "cell_type": "markdown",
   "metadata": {},
   "source": [
    "# Summary\n",
    "\n",
    "Static attributes are created at class level\n",
    "\n",
    "Static attributes are accessed using ClassName\n",
    "\n",
    "Static attributes are object independent, We can access them without creating instance (object) of the class in which they are defined\n",
    "\n",
    "The value stored in static attribute is shared between all instances(objects) of the class in which the static attribute is defined"
   ]
  },
  {
   "cell_type": "code",
   "execution_count": null,
   "metadata": {},
   "outputs": [],
   "source": []
  }
 ],
 "metadata": {
  "kernelspec": {
   "display_name": "Python 3",
   "language": "python",
   "name": "python3"
  },
  "language_info": {
   "codemirror_mode": {
    "name": "ipython",
    "version": 3
   },
   "file_extension": ".py",
   "mimetype": "text/x-python",
   "name": "python",
   "nbconvert_exporter": "python",
   "pygments_lexer": "ipython3",
   "version": "3.7.4"
  }
 },
 "nbformat": 4,
 "nbformat_minor": 2
}
