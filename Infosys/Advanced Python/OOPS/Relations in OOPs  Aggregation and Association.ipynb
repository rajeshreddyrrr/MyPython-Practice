{
 "cells": [
  {
   "cell_type": "markdown",
   "metadata": {},
   "source": [
    "# Aggregation\n",
    "\n",
    "If  class A owns class B,then class A is said to be aggregate\n",
    "This is also commonly known as HAs-A relationship"
   ]
  },
  {
   "cell_type": "code",
   "execution_count": 1,
   "metadata": {},
   "outputs": [],
   "source": [
    "class Customer:\n",
    "    def __init__(self, name, age, phone_no):\n",
    "        self.name = name\n",
    "        self.age = age\n",
    "        self.phone_no = phone_no\n",
    "\n",
    "    def view_details(self):\n",
    "        pass\n",
    "\n",
    "    def update_details(self):\n",
    "        pass\n",
    "\n",
    "class Address:\n",
    "    def __init__(self, door_no, street, area, pincode):\n",
    "        self.door_no = door_no\n",
    "        self.street = street\n",
    "        self.area = area\n",
    "        self.pincode = pincode\n",
    "\n",
    "    def update_address(self):\n",
    "        pass\n"
   ]
  },
  {
   "cell_type": "markdown",
   "metadata": {},
   "source": [
    "If we want the Customer object to aggregate the Address object, thereby owning the Address object and having full access to it, then the Customer object must have an additional attribute for Address as shown below:\n",
    "\n",
    "Just like Customer \"has-a\" name, Customer \"has-a\" age, Customer \"has-a\" phone_no, now Customer also \"has-a\" Address\n",
    "\n",
    "Let us add the extra attribute in the Customer class so that it can aggregate the Address class as shown below:\n",
    "\n"
   ]
  },
  {
   "cell_type": "code",
   "execution_count": 3,
   "metadata": {},
   "outputs": [],
   "source": [
    "class Customer:\n",
    "    def __init__(self, name, age, phone_no, address):\n",
    "        self.name = name\n",
    "        self.age = age\n",
    "        self.phone_no = phone_no\n",
    "        self.address = address\n",
    "\n",
    "    def view_details(self):\n",
    "        pass\n",
    "\n",
    "    def update_details(self):\n",
    "        pass\n",
    "\n",
    "class Address:\n",
    "    def __init__(self, door_no, street, area, pincode):\n",
    "        self.door_no = door_no\n",
    "        self.street = street\n",
    "        self.area = area\n",
    "        self.pincode = pincode\n",
    "\n",
    "    def update_address(self):\n",
    "        pass\n"
   ]
  },
  {
   "cell_type": "code",
   "execution_count": 19,
   "metadata": {},
   "outputs": [
    {
     "name": "stdout",
     "output_type": "stream",
     "text": [
      "Rajesh 26 9701645407\n",
      "2-59 ncpalli 516421\n",
      "Rajesh 26 9701645407\n",
      "567 6th Lane 82006\n"
     ]
    }
   ],
   "source": [
    "class Customer:\n",
    "    def __init__(self,name,age,Mobile,Address):\n",
    "        self.name=name\n",
    "        self.age=age\n",
    "        self.Mobile=Mobile\n",
    "        self.Address=Address\n",
    "        \n",
    "    def viewDetails(self):\n",
    "        print(self.name,self.age,self.Mobile)\n",
    "        print(self.Address.doorno,self.Address.street,self.Address.pincode)\n",
    "        \n",
    "    def Updatedetails(self,add):\n",
    "        self.Address=add\n",
    "        \n",
    "        \n",
    "        \n",
    "        \n",
    "class Address:\n",
    "    def __init__(self,doorno,street,pincode):\n",
    "        self.doorno=doorno\n",
    "        self.street=street\n",
    "        self.pincode=pincode\n",
    "        \n",
    "    def UpdateAddress(self):\n",
    "        pass\n",
    "    \n",
    "    \n",
    "\n",
    "A1=Address(\"2-59\",\"ncpalli\",516421)\n",
    "add2=Address(567, \"6th Lane\", 82006)\n",
    "\n",
    "C1=Customer(\"Rajesh\",26,9701645407,A1)\n",
    "\n",
    "C1.viewDetails()\n",
    "\n",
    "C1.Updatedetails(add2)\n",
    "C1.viewDetails()"
   ]
  },
  {
   "cell_type": "code",
   "execution_count": 20,
   "metadata": {},
   "outputs": [
    {
     "name": "stdout",
     "output_type": "stream",
     "text": [
      "Jack 24 1234\n"
     ]
    },
    {
     "ename": "AttributeError",
     "evalue": "'Address' object has no attribute '_Customer__door_no'",
     "output_type": "error",
     "traceback": [
      "\u001b[1;31m---------------------------------------------------------------------------\u001b[0m",
      "\u001b[1;31mAttributeError\u001b[0m                            Traceback (most recent call last)",
      "\u001b[1;32m<ipython-input-20-b654d500a9fa>\u001b[0m in \u001b[0;36m<module>\u001b[1;34m\u001b[0m\n\u001b[0;32m     19\u001b[0m \u001b[0madd1\u001b[0m\u001b[1;33m=\u001b[0m\u001b[0mAddress\u001b[0m\u001b[1;33m(\u001b[0m\u001b[1;36m123\u001b[0m\u001b[1;33m,\u001b[0m \u001b[1;34m\"5th Lane\"\u001b[0m\u001b[1;33m,\u001b[0m \u001b[1;36m56001\u001b[0m\u001b[1;33m)\u001b[0m\u001b[1;33m\u001b[0m\u001b[1;33m\u001b[0m\u001b[0m\n\u001b[0;32m     20\u001b[0m \u001b[0mcus1\u001b[0m\u001b[1;33m=\u001b[0m\u001b[0mCustomer\u001b[0m\u001b[1;33m(\u001b[0m\u001b[1;34m\"Jack\"\u001b[0m\u001b[1;33m,\u001b[0m \u001b[1;36m24\u001b[0m\u001b[1;33m,\u001b[0m \u001b[1;36m1234\u001b[0m\u001b[1;33m,\u001b[0m \u001b[0madd1\u001b[0m\u001b[1;33m)\u001b[0m\u001b[1;33m\u001b[0m\u001b[1;33m\u001b[0m\u001b[0m\n\u001b[1;32m---> 21\u001b[1;33m \u001b[0mcus1\u001b[0m\u001b[1;33m.\u001b[0m\u001b[0mview_details\u001b[0m\u001b[1;33m(\u001b[0m\u001b[1;33m)\u001b[0m\u001b[1;33m\u001b[0m\u001b[1;33m\u001b[0m\u001b[0m\n\u001b[0m\u001b[0;32m     22\u001b[0m \u001b[1;33m\u001b[0m\u001b[0m\n",
      "\u001b[1;32m<ipython-input-20-b654d500a9fa>\u001b[0m in \u001b[0;36mview_details\u001b[1;34m(self)\u001b[0m\n\u001b[0;32m      9\u001b[0m     \u001b[1;32mdef\u001b[0m \u001b[0mview_details\u001b[0m\u001b[1;33m(\u001b[0m\u001b[0mself\u001b[0m\u001b[1;33m)\u001b[0m\u001b[1;33m:\u001b[0m\u001b[1;33m\u001b[0m\u001b[1;33m\u001b[0m\u001b[0m\n\u001b[0;32m     10\u001b[0m         \u001b[0mprint\u001b[0m \u001b[1;33m(\u001b[0m\u001b[0mself\u001b[0m\u001b[1;33m.\u001b[0m\u001b[0mname\u001b[0m\u001b[1;33m,\u001b[0m \u001b[0mself\u001b[0m\u001b[1;33m.\u001b[0m\u001b[0mage\u001b[0m\u001b[1;33m,\u001b[0m \u001b[0mself\u001b[0m\u001b[1;33m.\u001b[0m\u001b[0mphone_no\u001b[0m\u001b[1;33m)\u001b[0m\u001b[1;33m\u001b[0m\u001b[1;33m\u001b[0m\u001b[0m\n\u001b[1;32m---> 11\u001b[1;33m         \u001b[0mprint\u001b[0m \u001b[1;33m(\u001b[0m\u001b[0mself\u001b[0m\u001b[1;33m.\u001b[0m\u001b[0maddress\u001b[0m\u001b[1;33m.\u001b[0m\u001b[0m__door_no\u001b[0m\u001b[1;33m,\u001b[0m \u001b[0mself\u001b[0m\u001b[1;33m.\u001b[0m\u001b[0maddress\u001b[0m\u001b[1;33m.\u001b[0m\u001b[0m__street\u001b[0m\u001b[1;33m,\u001b[0m \u001b[0mself\u001b[0m\u001b[1;33m.\u001b[0m\u001b[0maddress\u001b[0m\u001b[1;33m.\u001b[0m\u001b[0m__pincode\u001b[0m\u001b[1;33m)\u001b[0m\u001b[1;33m\u001b[0m\u001b[1;33m\u001b[0m\u001b[0m\n\u001b[0m\u001b[0;32m     12\u001b[0m \u001b[1;32mclass\u001b[0m \u001b[0mAddress\u001b[0m\u001b[1;33m:\u001b[0m\u001b[1;33m\u001b[0m\u001b[1;33m\u001b[0m\u001b[0m\n\u001b[0;32m     13\u001b[0m     \u001b[1;32mdef\u001b[0m \u001b[0m__init__\u001b[0m\u001b[1;33m(\u001b[0m\u001b[0mself\u001b[0m\u001b[1;33m,\u001b[0m \u001b[0mdoor_no\u001b[0m\u001b[1;33m,\u001b[0m \u001b[0mstreet\u001b[0m\u001b[1;33m,\u001b[0m \u001b[0mpincode\u001b[0m\u001b[1;33m)\u001b[0m\u001b[1;33m:\u001b[0m\u001b[1;33m\u001b[0m\u001b[1;33m\u001b[0m\u001b[0m\n",
      "\u001b[1;31mAttributeError\u001b[0m: 'Address' object has no attribute '_Customer__door_no'"
     ]
    }
   ],
   "source": [
    "#We have already seen that private variables cannot be accessed outside the class. This is true even in aggregation. The owning class cannot access the private attributes of the aggregated class directly.\n",
    "\n",
    "class Customer:\n",
    "    def __init__(self, name, age, phone_no, address):\n",
    "        self.name = name\n",
    "        self.age = age\n",
    "        self.phone_no = phone_no\n",
    "        self.address = address\n",
    "    def view_details(self):\n",
    "        print (self.name, self.age, self.phone_no)\n",
    "        print (self.address.__door_no, self.address.__street, self.address.__pincode)\n",
    "class Address:\n",
    "    def __init__(self, door_no, street, pincode):\n",
    "        self.__door_no = door_no\n",
    "        self.__street = street\n",
    "        self.__pincode = pincode\n",
    "    def update_address(self):\n",
    "        pass\n",
    "add1=Address(123, \"5th Lane\", 56001)\n",
    "cus1=Customer(\"Jack\", 24, 1234, add1)\n",
    "cus1.view_details()\n",
    "\n"
   ]
  },
  {
   "cell_type": "code",
   "execution_count": 23,
   "metadata": {},
   "outputs": [
    {
     "name": "stdout",
     "output_type": "stream",
     "text": [
      "Rajesh 26 9701645407\n",
      "789 kukatpalli 500078\n"
     ]
    }
   ],
   "source": [
    "#Once we have appropriate accessor and mutator methods we can start accessing the private variables of the aggregated class using those methods.\n",
    "\n",
    "class Customer:\n",
    "    def __init__(self,name,age,Mobile,Address):\n",
    "        self.name=name\n",
    "        self.age=age\n",
    "        self.Mobile=Mobile\n",
    "        self.Address=Address\n",
    "        \n",
    "    def View_Details(self):\n",
    "        print(self.name,self.age,self.Mobile)\n",
    "        print(self.Address.get_doorno(),self.Address.get_street(),self.Address.get_pincode())\n",
    "        \n",
    "        \n",
    "class Address:\n",
    "    def __init__(self,doorno,street,pincode):\n",
    "        self.__doorno=doorno\n",
    "        self.__street=street\n",
    "        self.__pincode=pincode\n",
    "        \n",
    "    def get_doorno(self):\n",
    "        return self.__doorno\n",
    "    def get_street(self):\n",
    "        return self.__street\n",
    "    def get_pincode(self):\n",
    "        return self.__pincode\n",
    "            \n",
    "    def set_doorno(self,value):\n",
    "        self.__doorno=value\n",
    "    def set_age(self,value):\n",
    "        self.__age=value\n",
    "    def set_pincode(self,value):\n",
    "        self.__pincode=value\n",
    "        \n",
    "Add1=Address(789,\"kukatpalli\",500078)\n",
    "Cus1=Customer(\"Rajesh\",26,9701645407,Add1)\n",
    "\n",
    "\n",
    "Cus1.View_Details()"
   ]
  },
  {
   "cell_type": "markdown",
   "metadata": {},
   "source": [
    "# Weaker relationship\n",
    "\n",
    "when ever we pass class as parameter of a function  it is a weak relationship\n",
    "Its not appear in class diagram"
   ]
  },
  {
   "cell_type": "code",
   "execution_count": 25,
   "metadata": {},
   "outputs": [
    {
     "name": "stdout",
     "output_type": "stream",
     "text": [
      "Paying by cash\n"
     ]
    }
   ],
   "source": [
    "class Customer:\n",
    "    def __init__(self, name, age, phone_no):\n",
    "        self.name = name\n",
    "        self.age = age\n",
    "        self.phone_no = phone_no\n",
    "    def purchase(self, payment):\n",
    "        if payment.type == \"card\":\n",
    "            print (\"Paying by card\")\n",
    "        elif payment.type == \"e-wallet\":\n",
    "            print (\"Paying by wallet\")\n",
    "        else:\n",
    "            print (\"Paying by cash\")\n",
    "class Payment:\n",
    "    def __init__(self, type):\n",
    "        self.type = type\n",
    "payment1=Payment(\"4568\")\n",
    "c=Customer(\"Jack\",23,1234)\n",
    "c.purchase(payment1)\n"
   ]
  },
  {
   "cell_type": "code",
   "execution_count": 26,
   "metadata": {},
   "outputs": [
    {
     "name": "stdout",
     "output_type": "stream",
     "text": [
      "500\n"
     ]
    }
   ],
   "source": [
    "#Apart from an object being passed as a parameter to the method\n",
    "#we can also create an object locally inside a method. \n",
    "#This again is a weaker dependency which does not reflect in the class diagram.\n",
    "\n",
    "#Object creation\n",
    "class Customer:\n",
    "    def __init__(self, name,cust_type,bill):\n",
    "        self.name = name\n",
    "        self.bill = bill\n",
    "        self.cust_type=cust_type\n",
    "    def calulate_bill(self):\n",
    "        tax1=Tax(self.cust_type)\n",
    "        final_bill=self.bill*tax1.tax_details(self.cust_type)\n",
    "        return final_bill\n",
    "class Tax:\n",
    "    def __init__(self,cust_type):\n",
    "        self.cust_type=cust_type\n",
    "    def tax_details(self,cust_type):\n",
    "        if(cust_type==\"Student\"):\n",
    "            return 5\n",
    "        else:\n",
    "            return 10\n",
    "cust1=Customer(\"Maddy\",\"Student\",100)\n",
    "print(cust1.calulate_bill())\n",
    "\n"
   ]
  },
  {
   "cell_type": "markdown",
   "metadata": {},
   "source": [
    "# Weaker relationship using static methods or attributes\n",
    "\n",
    "Also, sometimes we may access the static attributes or methods of another class directly inside our class. This again is a weaker relationship.\n",
    "\n",
    "\n"
   ]
  },
  {
   "cell_type": "code",
   "execution_count": 30,
   "metadata": {},
   "outputs": [
    {
     "name": "stdout",
     "output_type": "stream",
     "text": [
      "Calling  111000\n"
     ]
    }
   ],
   "source": [
    "#Usage of static attribute\n",
    "class CustomerCare:\n",
    "    helpline=111000\n",
    "class Customer:\n",
    "    def call_support(self):\n",
    "        print(\"Calling \",CustomerCare.helpline)\n",
    "        \n",
    "\n",
    "CC=Customer()\n",
    "CC.call_support()\n"
   ]
  },
  {
   "cell_type": "code",
   "execution_count": 31,
   "metadata": {},
   "outputs": [
    {
     "name": "stdout",
     "output_type": "stream",
     "text": [
      "Calling  111000\n"
     ]
    }
   ],
   "source": [
    "#Usage of static method\n",
    "class CustomerCare:\n",
    "    __helpline=111000\n",
    "    @staticmethod\n",
    "    def get_helpline():\n",
    "        return CustomerCare.__helpline\n",
    "class Customer:\n",
    "    def call_support(self):\n",
    "        print(\"Calling \",CustomerCare.get_helpline())\n",
    "Customer().call_support()\n"
   ]
  },
  {
   "cell_type": "markdown",
   "metadata": {},
   "source": [
    "# Summary\n",
    "\n",
    "\n",
    "Classes can have relationships with other classes\n",
    "\n",
    "In aggregation one class owns another though they have their own life cycle\n",
    "\n",
    "Aggregation is represented using an diamond symbol in the class diagram\n",
    "\n",
    "If an object is used only in a method of a class as a local variable then it is called as Association\n",
    "\n",
    "As Association is not a strict relationship, it cannot be represented in the class diagram\n",
    "\n",
    "We can also use static variable or method of one class inside another class using Association"
   ]
  },
  {
   "cell_type": "code",
   "execution_count": null,
   "metadata": {},
   "outputs": [],
   "source": []
  }
 ],
 "metadata": {
  "kernelspec": {
   "display_name": "Python 3",
   "language": "python",
   "name": "python3"
  },
  "language_info": {
   "codemirror_mode": {
    "name": "ipython",
    "version": 3
   },
   "file_extension": ".py",
   "mimetype": "text/x-python",
   "name": "python",
   "nbconvert_exporter": "python",
   "pygments_lexer": "ipython3",
   "version": "3.7.4"
  }
 },
 "nbformat": 4,
 "nbformat_minor": 2
}
