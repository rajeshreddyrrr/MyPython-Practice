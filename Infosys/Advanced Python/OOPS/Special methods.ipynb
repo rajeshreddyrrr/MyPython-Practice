{
 "cells": [
  {
   "cell_type": "code",
   "execution_count": 4,
   "metadata": {},
   "outputs": [
    {
     "name": "stdout",
     "output_type": "stream",
     "text": [
      "Iphone 1000\n",
      "<__main__.Product object at 0x000001FF1ECF3708>\n"
     ]
    }
   ],
   "source": [
    "# What happens when you try to place an object in print statement?\n",
    "\n",
    "\n",
    "class Product:\n",
    "    def __init__(self,name,price):\n",
    "        self.name=name\n",
    "        self.price=price\n",
    "        \n",
    "        print(name,price)\n",
    "p1=Product('Iphone',1000)\n",
    "print(p1)\n"
   ]
  },
  {
   "cell_type": "markdown",
   "metadata": {},
   "source": [
    "The details of the object will be printed because, no functionality is defined for printing an object. The functionality can be defined using a special method called as __str__ method. This method should always return a string.\n",
    "\n"
   ]
  },
  {
   "cell_type": "code",
   "execution_count": 7,
   "metadata": {},
   "outputs": [
    {
     "name": "stdout",
     "output_type": "stream",
     "text": [
      "Iphone 1000\n"
     ]
    }
   ],
   "source": [
    "class Product:\n",
    "    def __init__(self,name,price):\n",
    "        self.name=name\n",
    "        self.price=price\n",
    "    def __str__(self):\n",
    "        return self.name+' '+str(self.price)\n",
    "p1=Product('Iphone',1000)\n",
    "print(p1)\n"
   ]
  },
  {
   "cell_type": "markdown",
   "metadata": {},
   "source": [
    "In python, we can use a + operator between two or more integers (or) between two or more strings.\n",
    "what happens, if we use a + operator between two objects of a User Defined Class?\n",
    "\n",
    "The interpreter will throw an error if you try to use an operator between objects of a User Defined Class. But, why?\n",
    "\n"
   ]
  },
  {
   "cell_type": "code",
   "execution_count": 9,
   "metadata": {},
   "outputs": [
    {
     "ename": "TypeError",
     "evalue": "unsupported operand type(s) for +: 'Product' and 'Product'",
     "output_type": "error",
     "traceback": [
      "\u001b[1;31m---------------------------------------------------------------------------\u001b[0m",
      "\u001b[1;31mTypeError\u001b[0m                                 Traceback (most recent call last)",
      "\u001b[1;32m<ipython-input-9-d056e6b9ac09>\u001b[0m in \u001b[0;36m<module>\u001b[1;34m\u001b[0m\n\u001b[0;32m     19\u001b[0m \u001b[0mproduct1\u001b[0m\u001b[1;33m=\u001b[0m\u001b[0mProduct\u001b[0m\u001b[1;33m(\u001b[0m\u001b[1;34m'IPhone'\u001b[0m\u001b[1;33m,\u001b[0m\u001b[1;34m'A mobile device with 4GB memory and 64GB Storage space which supprots 4G Network'\u001b[0m\u001b[1;33m,\u001b[0m\u001b[1;34m'Apple'\u001b[0m\u001b[1;33m,\u001b[0m\u001b[1;36m72500.25\u001b[0m\u001b[1;33m)\u001b[0m\u001b[1;33m\u001b[0m\u001b[1;33m\u001b[0m\u001b[0m\n\u001b[0;32m     20\u001b[0m \u001b[0mproduct2\u001b[0m\u001b[1;33m=\u001b[0m\u001b[0mProduct\u001b[0m\u001b[1;33m(\u001b[0m\u001b[1;34m'Air Max'\u001b[0m\u001b[1;33m,\u001b[0m\u001b[1;34m'A Sport Shoe'\u001b[0m\u001b[1;33m,\u001b[0m\u001b[1;34m'Nike'\u001b[0m\u001b[1;33m,\u001b[0m\u001b[1;36m1280.0\u001b[0m\u001b[1;33m)\u001b[0m\u001b[1;33m\u001b[0m\u001b[1;33m\u001b[0m\u001b[0m\n\u001b[1;32m---> 21\u001b[1;33m \u001b[0mproduct1\u001b[0m\u001b[1;33m+\u001b[0m\u001b[0mproduct2\u001b[0m\u001b[1;33m\u001b[0m\u001b[1;33m\u001b[0m\u001b[0m\n\u001b[0m",
      "\u001b[1;31mTypeError\u001b[0m: unsupported operand type(s) for +: 'Product' and 'Product'"
     ]
    }
   ],
   "source": [
    "class Product:\n",
    "    counter=100\n",
    "    def __init__(self,name,description,brand,price):\n",
    "        Product.counter+=1\n",
    "        self.id='P'+str(Product.counter)\n",
    "        self.name=name\n",
    "        self.description=description\n",
    "        self.brand=brand\n",
    "        self.price=price\n",
    "    def purchase(self):\n",
    "        total_amount=self.price\n",
    "        total_amount+=0.05*total_amount\n",
    "        print('Product ID:',self.id)\n",
    "        print('Product Name:',self.name)\n",
    "        print('Price:',self.price)\n",
    "        print('Tax Amount:',total_amount-self.price)\n",
    "        print('Grand Total:',total_amount)\n",
    "        print('Thanks for the purchase.\\n')\n",
    "product1=Product('IPhone','A mobile device with 4GB memory and 64GB Storage space which supprots 4G Network','Apple',72500.25)\n",
    "product2=Product('Air Max','A Sport Shoe','Nike',1280.0)\n",
    "product1+product2\n"
   ]
  },
  {
   "cell_type": "markdown",
   "metadata": {},
   "source": [
    "This is because, we did not define any logic for the + operator in our user defined class Product.\n",
    "\n",
    "We have some special function like __add__(), __sub()__, __mul__() to define the functionality of operators. Some of these special functions are listed in the file below:"
   ]
  },
  {
   "cell_type": "code",
   "execution_count": 12,
   "metadata": {},
   "outputs": [
    {
     "name": "stdout",
     "output_type": "stream",
     "text": [
      "15000\n"
     ]
    }
   ],
   "source": [
    "class Product:\n",
    "    counter=100\n",
    "    def __init__(self,name,description,brand,price):\n",
    "        Product.counter+=1\n",
    "        self.id='p'+str(Product.counter)\n",
    "        self.name=name\n",
    "        self.description=description\n",
    "        self.brand=brand\n",
    "        self.price=price\n",
    "        \n",
    "    def __add__(self,other):\n",
    "        return self.price+other.price\n",
    "    \n",
    "p1=Product(\"Rajesh\",\"Mobile has 6 GB ram and 120 GB internal\",\"Apple\",10000)\n",
    "p2=Product(\"Ramireddy\",\"Mobile has 3 GB ram and 34 GB internam\",\"Apple\",5000)\n",
    "\n",
    "print(p1+p2)"
   ]
  },
  {
   "cell_type": "code",
   "execution_count": null,
   "metadata": {},
   "outputs": [],
   "source": []
  }
 ],
 "metadata": {
  "kernelspec": {
   "display_name": "Python 3",
   "language": "python",
   "name": "python3"
  },
  "language_info": {
   "codemirror_mode": {
    "name": "ipython",
    "version": 3
   },
   "file_extension": ".py",
   "mimetype": "text/x-python",
   "name": "python",
   "nbconvert_exporter": "python",
   "pygments_lexer": "ipython3",
   "version": "3.7.4"
  }
 },
 "nbformat": 4,
 "nbformat_minor": 2
}
