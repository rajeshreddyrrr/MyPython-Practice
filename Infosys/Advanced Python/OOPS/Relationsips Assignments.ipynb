{
 "cells": [
  {
   "cell_type": "markdown",
   "metadata": {},
   "source": [
    "\n",
    "1. Freight Pvt. Ltd, a cargo company, forwards cargos/freights between its customers.\n",
    "Freight charges are applied based on weight and distance of the shipment.\n",
    "Write a python program to implement the class diagram given below.\n",
    "\n",
    "Method description:\n",
    "\n",
    "Initialize counter variable to 198 in Freight class\n",
    "\n",
    "All validate methods should return true, if validation succeeds. Else it should return false\n",
    "\n",
    "validate_customer_id(): Customer id should be 6 digits and should begin with digit 1\n",
    "\n",
    "validate_weight(): Weight should be a multiple of 5\n",
    "\n",
    "validate_distance(): Distance should be between 500kms and 5000kms (both inclusive)\n",
    "\n",
    "forward_cargo()\n",
    "\n",
    "Validate from_customer.customer_id, recipient_customer.customer_id, distance and weight of the freight\n",
    "\n",
    "If valid,\n",
    "\n",
    "auto-generate freight_id starting from 200 and initialize it. freight_id should be even\n",
    "\n",
    "calculate freight_charge based on weight (Rs.150/kg) and distance (Rs.60/km)\n",
    "\n",
    "Else, set freight_charge to 0\n",
    "\n",
    " "
   ]
  },
  {
   "cell_type": "code",
   "execution_count": 2,
   "metadata": {},
   "outputs": [],
   "source": [
    "class Flight:\n",
    "    flight_id=12345\n",
    "    receipient_customer\n",
    "    from_customer=\n",
    "    weight=100\n",
    "    distance=1000\n",
    "    flight_charge=2000\n",
    "    counter=198\n",
    "    \n",
    "    def __init__(receipient_customer,from_customer,weight,distance,Customer):\n",
    "        self.receipient_customer=receipient_customer\n",
    "        self.from_customer=from_customer\n",
    "        self.distance=distance\n",
    "        self.Customer=Customer\n",
    "        \n",
    "        print(self.receipient_customer,self.from_customer,self.distance)\n",
    "        print(self.Customer.customer_id,self.Customer.customer_name,Customer.customer_address)\n",
    "        \n",
    "    def validate_weight(self):\n",
    "        if((self.weight%5)==0):\n",
    "            return \"true\"\n",
    "        else:\n",
    "            return \"false\"\n",
    "    #validate_distance(): Distance should be between 500kms and 5000kms (both inclusive)\n",
    "    def validate_distance(self):\n",
    "        if(self.distance>=500 and self.distance<=5000):\n",
    "            return \"true\"\n",
    "        else:\n",
    "            return \"false\"\n",
    "        \n",
    "class Customer:\n",
    "    customer_id\n",
    "    customer_name\n",
    "    customer_address\n",
    "    \n",
    "    def __init__(self,customer_id,customer_name,customer_address):\n",
    "        self.customer_id=customer_id\n",
    "        self.customer_name=customer_name\n",
    "        self.customer_address=customer_address\n",
    "        \n",
    "        \n",
    "        \n",
    "C1=Customer(101,\"Rajesh\",\"Hyderabad\")\n",
    "F1=Flight()"
   ]
  },
  {
   "cell_type": "code",
   "execution_count": 22,
   "metadata": {},
   "outputs": [
    {
     "data": {
      "text/plain": [
       "'false'"
      ]
     },
     "execution_count": 22,
     "metadata": {},
     "output_type": "execute_result"
    }
   ],
   "source": [
    "def validate_distance(distance):\n",
    "    if(distance>=500 and distance<=5000):\n",
    "        return \"true\"\n",
    "    else:\n",
    "        return \"false\"\n",
    "        \n",
    "validate_distance(50)"
   ]
  },
  {
   "cell_type": "code",
   "execution_count": null,
   "metadata": {},
   "outputs": [],
   "source": []
  }
 ],
 "metadata": {
  "kernelspec": {
   "display_name": "Python 3",
   "language": "python",
   "name": "python3"
  },
  "language_info": {
   "codemirror_mode": {
    "name": "ipython",
    "version": 3
   },
   "file_extension": ".py",
   "mimetype": "text/x-python",
   "name": "python",
   "nbconvert_exporter": "python",
   "pygments_lexer": "ipython3",
   "version": "3.7.4"
  }
 },
 "nbformat": 4,
 "nbformat_minor": 2
}
