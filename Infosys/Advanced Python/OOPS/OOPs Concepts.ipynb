{
 "cells": [
  {
   "cell_type": "markdown",
   "metadata": {},
   "source": [
    "# Class\n",
    "A class is defined using the class keyword in python. For example, the below code creates a class called Mobile without any attributes or behavior.\n",
    "\n"
   ]
  },
  {
   "cell_type": "code",
   "execution_count": 1,
   "metadata": {},
   "outputs": [],
   "source": [
    "class Mobile:\n",
    "    pass\n"
   ]
  },
  {
   "cell_type": "code",
   "execution_count": 2,
   "metadata": {},
   "outputs": [
    {
     "name": "stdout",
     "output_type": "stream",
     "text": [
      "11\n",
      "11\n"
     ]
    }
   ],
   "source": [
    "#The below code will not give an error. However, mob2 will have an attribute ios_versio. This spelling mistake creates a new attribute! Hence be careful when assigning values to attributes of an object.\n",
    "\n",
    "class Mobile:\n",
    "    pass\n",
    "\n",
    "mob1=Mobile()\n",
    "mob2=Mobile()\n",
    "\n",
    "mob1.price=10000\n",
    "mob1.brand=\"Apple\"\n",
    "mob1.ios_version=11\n",
    "print(mob1.ios_version)\n",
    "\n",
    "mob2.price=20000\n",
    "mob2.brand=\"Samsung\"\n",
    "mob2.ios_versio=11\n",
    "print(mob2.ios_versio)\n"
   ]
  },
  {
   "cell_type": "markdown",
   "metadata": {},
   "source": [
    "# Constructor\n",
    "\n",
    "Constructor is used to create and intialise data members and objects\n"
   ]
  },
  {
   "cell_type": "code",
   "execution_count": 4,
   "metadata": {},
   "outputs": [
    {
     "name": "stdout",
     "output_type": "stream",
     "text": [
      "inside the Constructor\n",
      "Brand of the mobile is : Apple and it's price is :  10000\n",
      "inside the Constructor\n",
      "Brand of the mobile is : Samsung and it's price is :  2000\n"
     ]
    }
   ],
   "source": [
    "# Create and assign values of a constructor\n",
    "class Mobile:\n",
    "    def __init__(self,brand,price):\n",
    "        print(\"inside the Constructor\")\n",
    "        self.brand=brand\n",
    "        self.price=price\n",
    "        \n",
    "\n",
    "mob1=Mobile(\"Apple\",10000)\n",
    "print(\"Brand of the mobile is :\",mob1.brand,\"and it's price is : \",mob1.price)\n",
    "\n",
    "mob2=Mobile(\"Samsung\",2000)\n",
    "print(\"Brand of the mobile is :\",mob2.brand,\"and it's price is : \",mob2.price)"
   ]
  },
  {
   "cell_type": "code",
   "execution_count": 9,
   "metadata": {},
   "outputs": [
    {
     "name": "stdout",
     "output_type": "stream",
     "text": [
      "Price: 10000\n",
      "Brand: Samsung\n"
     ]
    }
   ],
   "source": [
    "class Mobile:\n",
    "    def __init__(self,price,brand):\n",
    "        print(\"Price:\",price)\n",
    "        print(\"Brand:\",brand)\n",
    "\n",
    "#Uncomment each line below. Try it out and observe the output.\n",
    "#mob1=Mobile()\n",
    "#mob1=Mobile(10000,'Samsung','Android')\n",
    "mob1=Mobile(10000,'Samsung')\n"
   ]
  },
  {
   "cell_type": "markdown",
   "metadata": {},
   "source": [
    "# Destructor\n",
    "Destructor is a special method which will be invoked automatically when the object gets removed from the memory."
   ]
  },
  {
   "cell_type": "code",
   "execution_count": 10,
   "metadata": {},
   "outputs": [
    {
     "name": "stdout",
     "output_type": "stream",
     "text": [
      "Deleting the object\n"
     ]
    }
   ],
   "source": [
    "class Product:\n",
    "    def __init__(self,price,brand):\n",
    "        self.price=price\n",
    "        self.brand=brand\n",
    "    def __del__(self):\n",
    "        print('Deleting the object')\n",
    "p1=Product(10000,'Apple')\n",
    "p2=Product(7000,'Samsung')\n",
    "del p1\n"
   ]
  },
  {
   "cell_type": "code",
   "execution_count": 11,
   "metadata": {},
   "outputs": [
    {
     "name": "stdout",
     "output_type": "stream",
     "text": [
      "Mobile-1\n",
      "Inside constructor\n",
      "Purchasing a mobile\n",
      "This mobile has brand Apple and price 20000\n",
      "Mobile-2\n",
      "Inside constructor\n",
      "Purchasing a mobile\n",
      "This mobile has brand Samsung and price 3000\n"
     ]
    }
   ],
   "source": [
    "class Mobile:\n",
    "    def __init__(self, brand, price):\n",
    "        print(\"Inside constructor\")\n",
    "        self.brand = brand\n",
    "        self.price = price\n",
    "    def purchase(self):\n",
    "        print(\"Purchasing a mobile\")\n",
    "        print(\"This mobile has brand\", self.brand, \"and price\", self.price)\n",
    "print(\"Mobile-1\")\n",
    "mob1=Mobile(\"Apple\", 20000)\n",
    "mob1.purchase()\n",
    "print(\"Mobile-2\")\n",
    "mob2=Mobile(\"Samsung\",3000)\n",
    "mob2.purchase()\n"
   ]
  },
  {
   "cell_type": "code",
   "execution_count": null,
   "metadata": {},
   "outputs": [],
   "source": []
  }
 ],
 "metadata": {
  "kernelspec": {
   "display_name": "Python 3",
   "language": "python",
   "name": "python3"
  },
  "language_info": {
   "codemirror_mode": {
    "name": "ipython",
    "version": 3
   },
   "file_extension": ".py",
   "mimetype": "text/x-python",
   "name": "python",
   "nbconvert_exporter": "python",
   "pygments_lexer": "ipython3",
   "version": "3.7.4"
  }
 },
 "nbformat": 4,
 "nbformat_minor": 2
}
