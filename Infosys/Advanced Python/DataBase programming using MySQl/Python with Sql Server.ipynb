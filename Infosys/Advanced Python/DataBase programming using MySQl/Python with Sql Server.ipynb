{
 "cells": [
  {
   "cell_type": "markdown",
   "metadata": {},
   "source": [
    "# DataBase Programming\n",
    "\n",
    "We can connect databaase by using pyodbc and pandas"
   ]
  },
  {
   "cell_type": "code",
   "execution_count": 9,
   "metadata": {},
   "outputs": [
    {
     "name": "stdout",
     "output_type": "stream",
     "text": [
      "(2, 'Rajesh', 'Reddy', 'Raj@gmail.com', 970164)\n",
      "(3, 'Rajesh', 'Reddy', 'Raj@gmail.com', 970164)\n",
      "(4, 'Rajesh', 'Reddy', 'Raj@gmail.com', 970164)\n",
      "(5, 'Rajesh', 'Reddy', 'Raj@gmail.com', 970164)\n"
     ]
    }
   ],
   "source": [
    "# Connecting bd by using pyiodbc \n",
    "import pyodbc\n",
    "conn = pyodbc.connect('Driver={SQL Server};'\n",
    "                      'Server=DESKTOP-4S897J0;'\n",
    "                      'Database=MyPractice;'\n",
    "                      'Trusted_Connection=yes;')\n",
    "\n",
    "cursor = conn.cursor()\n",
    "cursor.execute('SELECT * FROM MyPractice.dbo.Student')\n",
    "\n",
    "for row in cursor:\n",
    "    print(row)"
   ]
  },
  {
   "cell_type": "code",
   "execution_count": 7,
   "metadata": {},
   "outputs": [
    {
     "name": "stdout",
     "output_type": "stream",
     "text": [
      "   StudentId   Fname  Lname          Email  Mobile\n",
      "0          2  Rajesh  Reddy  Raj@gmail.com  970164\n",
      "1          3  Rajesh  Reddy  Raj@gmail.com  970164\n",
      "2          4  Rajesh  Reddy  Raj@gmail.com  970164\n",
      "3          5  Rajesh  Reddy  Raj@gmail.com  970164\n",
      "<class 'pandas.core.frame.DataFrame'>\n"
     ]
    }
   ],
   "source": [
    "#Conectiong bd by using pandas and pyodbc\n",
    "\n",
    "import pandas as pd\n",
    "import pyodbc \n",
    "conn = pyodbc.connect('Driver={SQL Server};'\n",
    "                      'Server=DESKTOP-4S897J0;'\n",
    "                      'Database=MyPractice;'\n",
    "                      'Trusted_Connection=yes;')\n",
    "\n",
    "cursor = conn.cursor()\n",
    "\n",
    "sql_query = pd.read_sql_query('SELECT * FROM MyPractice.dbo.Student',conn)\n",
    "print(sql_query)\n",
    "print(type(sql_query))"
   ]
  },
  {
   "cell_type": "markdown",
   "metadata": {},
   "source": [
    "# Insert commands\n",
    "\n",
    "Database programming with Python is very easy. You just need 8 lines of code to insert a record into a database table from Python. Take a look!\n",
    "\n"
   ]
  },
  {
   "cell_type": "code",
   "execution_count": 42,
   "metadata": {},
   "outputs": [
    {
     "name": "stdout",
     "output_type": "stream",
     "text": [
      "(2, 'Rajesh', 'Reddy', 'Raj@gmail.com', 970164)\n",
      "(3, 'Rajesh', 'Reddy', 'Raj@gmail.com', 970164)\n",
      "(4, 'Rajesh', 'Reddy', 'Raj@gmail.com', 970164)\n",
      "(5, 'Rajesh', 'Reddy', 'Raj@gmail.com', 970164)\n",
      "(6, 'Sai', 'Reddy', 'pra@gmail.com', 75648)\n",
      "(18, 'Sai', 'Reddy', 'Sai@gmail.com', 2013)\n",
      "(19, 'Praveen', 'Reddy', 'rpkr@gmail.com', 96666)\n"
     ]
    }
   ],
   "source": [
    "# Connecting db by using pyodbc\n",
    "\n",
    "import pyodbc\n",
    "\n",
    "con=pyodbc.connect('Driver={SQL Server};'\n",
    "                   'Server=DESKTOP-4S897J0;'\n",
    "                   'DataBase=MyPractice;'\n",
    "                   'Trusted_Connection=yes;')\n",
    "\n",
    "curson=con.cursor()\n",
    "\n",
    "#curson.execute('select * from MyPractice.dbo.Student')\n",
    "curson.execute('''INSERT INTO dbo.Student(Fname,Lname,Email,Mobile) VALUES('Sai','Reddy','Sai@gmail.com',2013),('Praveen','Reddy','rpkr@gmail.com',96666)''')\n",
    "curson.execute('select * from MyPractice.dbo.Student')\n",
    "for row in curson:\n",
    "    print(row)\n",
    "    \n",
    "con.commit()\n"
   ]
  },
  {
   "cell_type": "code",
   "execution_count": 51,
   "metadata": {},
   "outputs": [
    {
     "name": "stdout",
     "output_type": "stream",
     "text": [
      "(2, 'Rajesh', 'Reddy', 'Raj@gmail.com', 970164)\n",
      "(3, 'Rajesh', 'Reddy', 'Raj@gmail.com', 970164)\n",
      "(4, 'Rajesh', 'Reddy', 'Raj@gmail.com', 970164)\n",
      "(5, 'Rajesh', 'Reddy', 'Raj@gmail.com', 970164)\n",
      "(6, 'Sai', 'Reddy', 'pra@gmail.com', 75648)\n",
      "(18, 'Sai', 'Reddy', 'Sai@gmail.com', 2013)\n",
      "(19, 'Praveen', 'Reddy', 'rpkr@gmail.com', 96666)\n",
      "(24, 'Rushsi', 'Reddy', 'rushi@gmail.com', 7565)\n",
      "(25, 'srikanth', 'naidu', 'sri@gmail.com', 53214)\n"
     ]
    }
   ],
   "source": [
    "import pyodbc\n",
    "\n",
    "con=pyodbc.connect('Driver={SQL Server};'\n",
    "                   'Server=DESKTOP-4S897J0;'\n",
    "                   'DataBase=MyPractice;'\n",
    "                   'Trusted_Connection=yes;')\n",
    "\n",
    "cursor=con.cursor()\n",
    "\n",
    "cursor.execute(''' insert into dbo.Student(Fname,Lname,Email,Mobile)\n",
    "                values('Rushsi','Reddy','rushi@gmail.com',7565),\n",
    "                ('srikanth','naidu','sri@gmail.com',53214)''')\n",
    "cursor.execute('select * from MyPractice.dbo.Student')\n",
    "\n",
    "for row in cursor:\n",
    "    print(row)\n",
    "con.commit()"
   ]
  },
  {
   "cell_type": "markdown",
   "metadata": {},
   "source": [
    "# Deleting records from a table\n"
   ]
  },
  {
   "cell_type": "code",
   "execution_count": 50,
   "metadata": {},
   "outputs": [
    {
     "name": "stdout",
     "output_type": "stream",
     "text": [
      "<pyodbc.Cursor object at 0x00000177517D7BB0>\n",
      "<pyodbc.Cursor object at 0x00000177517D7BB0>\n",
      "<pyodbc.Cursor object at 0x00000177517D7BB0>\n",
      "<pyodbc.Cursor object at 0x00000177517D7BB0>\n",
      "<pyodbc.Cursor object at 0x00000177517D7BB0>\n",
      "<pyodbc.Cursor object at 0x00000177517D7BB0>\n",
      "<pyodbc.Cursor object at 0x00000177517D7BB0>\n"
     ]
    }
   ],
   "source": [
    "import pyodbc\n",
    "\n",
    "con=pyodbc.connect('Driver={SQL Server};'\n",
    "                   'Server=DESKTOP-4S897J0;'\n",
    "                  'DataBase=MyPractice;'\n",
    "                  'Trusted_Connection=yes;')\n",
    "\n",
    "cursor=con.cursor()\n",
    "\n",
    "cursor.execute('delete MyPractice.dbo.Student where StudentId>20 ')\n",
    "\n",
    "cursor.execute('select * from MyPractice.dbo.Student')\n",
    "\n",
    "for row in cursor:\n",
    "    print(cursor)\n",
    "    \n",
    "con.commit()"
   ]
  },
  {
   "cell_type": "markdown",
   "metadata": {},
   "source": [
    "# Committing a transaction\n",
    "\n",
    "All DML statement transactions are not auto committed by default. Thus any DML operations done through Python will be lost once the connection is closed. To ensure that the DML operations are not lost after the connection, the commit() method has to be invoked on the connection object.\n",
    "\n"
   ]
  }
 ],
 "metadata": {
  "kernelspec": {
   "display_name": "Python 3",
   "language": "python",
   "name": "python3"
  },
  "language_info": {
   "codemirror_mode": {
    "name": "ipython",
    "version": 3
   },
   "file_extension": ".py",
   "mimetype": "text/x-python",
   "name": "python",
   "nbconvert_exporter": "python",
   "pygments_lexer": "ipython3",
   "version": "3.7.4"
  }
 },
 "nbformat": 4,
 "nbformat_minor": 2
}
