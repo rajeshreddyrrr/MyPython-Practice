{
 "cells": [
  {
   "cell_type": "code",
   "execution_count": 4,
   "metadata": {},
   "outputs": [
    {
     "name": "stdout",
     "output_type": "stream",
     "text": [
      "10 <class 'int'>\n",
      "Rajesh <class 'str'>\n",
      "<class 'str'>\n"
     ]
    }
   ],
   "source": [
    "a=10\n",
    "print(a,type(a))\n",
    "a=\"Rajesh\"\n",
    "print(a,type(a))\n",
    "print(type(a))"
   ]
  },
  {
   "cell_type": "code",
   "execution_count": 5,
   "metadata": {},
   "outputs": [
    {
     "ename": "TypeError",
     "evalue": "unsupported operand type(s) for +: 'int' and 'str'",
     "output_type": "error",
     "traceback": [
      "\u001b[1;31m---------------------------------------------------------------------------\u001b[0m",
      "\u001b[1;31mTypeError\u001b[0m                                 Traceback (most recent call last)",
      "\u001b[1;32m<ipython-input-5-80ace9e5bf34>\u001b[0m in \u001b[0;36m<module>\u001b[1;34m\u001b[0m\n\u001b[0;32m      1\u001b[0m \u001b[0mnum1\u001b[0m\u001b[1;33m=\u001b[0m\u001b[1;36m10\u001b[0m\u001b[1;33m\u001b[0m\u001b[1;33m\u001b[0m\u001b[0m\n\u001b[0;32m      2\u001b[0m \u001b[0mnum2\u001b[0m\u001b[1;33m=\u001b[0m\u001b[1;34m\"20\"\u001b[0m\u001b[1;33m\u001b[0m\u001b[1;33m\u001b[0m\u001b[0m\n\u001b[1;32m----> 3\u001b[1;33m \u001b[0mresult\u001b[0m\u001b[1;33m=\u001b[0m\u001b[0mnum1\u001b[0m\u001b[1;33m+\u001b[0m\u001b[0mnum2\u001b[0m\u001b[1;33m\u001b[0m\u001b[1;33m\u001b[0m\u001b[0m\n\u001b[0m\u001b[0;32m      4\u001b[0m \u001b[0mprint\u001b[0m\u001b[1;33m(\u001b[0m\u001b[0mresult\u001b[0m\u001b[1;33m)\u001b[0m\u001b[1;33m\u001b[0m\u001b[1;33m\u001b[0m\u001b[0m\n\u001b[0;32m      5\u001b[0m \u001b[1;33m\u001b[0m\u001b[0m\n",
      "\u001b[1;31mTypeError\u001b[0m: unsupported operand type(s) for +: 'int' and 'str'"
     ]
    }
   ],
   "source": [
    "num1=10\n",
    "num2=\"20\"\n",
    "result=num1+num2\n",
    "print(result)\n",
    "\n"
   ]
  },
  {
   "cell_type": "code",
   "execution_count": 6,
   "metadata": {},
   "outputs": [
    {
     "name": "stdout",
     "output_type": "stream",
     "text": [
      "30\n"
     ]
    }
   ],
   "source": [
    "num1=10\n",
    "num2=\"20\"\n",
    "result=num1+int(num2)\n",
    "print(result)\n"
   ]
  },
  {
   "cell_type": "code",
   "execution_count": 12,
   "metadata": {},
   "outputs": [
    {
     "name": "stdout",
     "output_type": "stream",
     "text": [
      "10\n",
      "20\n",
      "1020\n"
     ]
    }
   ],
   "source": [
    "num1=\"10\"\n",
    "num2=\"20\"\n",
    "result=(str(num1))+num2\n",
    "print(str(num1))\n",
    "print(num2)\n",
    "print(result)\n"
   ]
  },
  {
   "cell_type": "code",
   "execution_count": 14,
   "metadata": {},
   "outputs": [
    {
     "name": "stdout",
     "output_type": "stream",
     "text": [
      "Rajesh Reddy \n"
     ]
    },
    {
     "data": {
      "text/plain": [
       "Ellipsis"
      ]
     },
     "execution_count": 14,
     "metadata": {},
     "output_type": "execute_result"
    }
   ],
   "source": [
    "...\n",
    "print(\"Rajesh Reddy \")\n",
    "..."
   ]
  },
  {
   "cell_type": "code",
   "execution_count": 15,
   "metadata": {},
   "outputs": [
    {
     "name": "stdout",
     "output_type": "stream",
     "text": [
      "30\n"
     ]
    }
   ],
   "source": [
    "'''\n",
    "used for: Demonstrating comments \n",
    "This is the first way of using multi-line comment\n",
    "'''\n",
    "\"\"\"\n",
    "used for: Demonstrating comments \n",
    "second way of using multi-line comment\n",
    "\"\"\"\n",
    "#program to demonstrate explicit type conversion \n",
    "num1=10 #variable of integer type\n",
    "num2=\"20\" #variable of string type\n",
    "result=num1+int(num2) #using explicit conversion \n",
    "print(result)\n"
   ]
  },
  {
   "cell_type": "code",
   "execution_count": 16,
   "metadata": {},
   "outputs": [
    {
     "data": {
      "text/plain": [
       "'\\nprint(\"Rajesh\")\\n'"
      ]
     },
     "execution_count": 16,
     "metadata": {},
     "output_type": "execute_result"
    }
   ],
   "source": [
    "'''\n",
    "print(\"Rajesh\")\n",
    "'''"
   ]
  },
  {
   "cell_type": "code",
   "execution_count": 17,
   "metadata": {},
   "outputs": [
    {
     "name": "stdout",
     "output_type": "stream",
     "text": [
      "6.25\n"
     ]
    }
   ],
   "source": [
    "print(50/8)"
   ]
  },
  {
   "cell_type": "code",
   "execution_count": 30,
   "metadata": {},
   "outputs": [
    {
     "name": "stdout",
     "output_type": "stream",
     "text": [
      "Big\n"
     ]
    }
   ],
   "source": [
    "z=1001\n",
    "a=10\n",
    "\n",
    "if(z>100):\n",
    "    print(\"Big\")\n",
    "elif(z<100):\n",
    "        print(\"small\")\n",
    "else:\n",
    "    print(\"Both are equal\")\n"
   ]
  },
  {
   "cell_type": "code",
   "execution_count": 36,
   "metadata": {},
   "outputs": [
    {
     "name": "stdout",
     "output_type": "stream",
     "text": [
      "A is big 100\n",
      "C is Big 30\n"
     ]
    }
   ],
   "source": [
    "a=100\n",
    "b=20\n",
    "c=30\n",
    "\n",
    "if(a>b and a>c):\n",
    "    print(\"A is big\",a)\n",
    "if(b>c and b>a):\n",
    "    print(\"B is Big\",b)\n",
    "else:\n",
    "    print(\"C is Big\",c)"
   ]
  },
  {
   "cell_type": "code",
   "execution_count": 38,
   "metadata": {},
   "outputs": [
    {
     "name": "stdout",
     "output_type": "stream",
     "text": [
      "num1 is greater\n"
     ]
    }
   ],
   "source": [
    "num1=100\n",
    "num2=20\n",
    "num3=30\n",
    "\n",
    "if(num1>num2):\n",
    "    if(num1>num3):\n",
    "        print(\"num1 is greater\")\n",
    "    else:\n",
    "        print(\"num3 is greater\")\n",
    "elif(num2>num3):\n",
    "    print(\"num2 is greater\")\n",
    "else:\n",
    "    print(\"num3 is greater\")\n"
   ]
  },
  {
   "cell_type": "code",
   "execution_count": 41,
   "metadata": {},
   "outputs": [
    {
     "name": "stdout",
     "output_type": "stream",
     "text": [
      "The current count is : 1\n",
      "The current count is : 2\n",
      "The current count is : 3\n",
      "The current count is : 4\n",
      "The current count is : 5\n"
     ]
    }
   ],
   "source": [
    "num=5\n",
    "count=1\n",
    "\n",
    "while(count<=num):\n",
    "    print(\"The current count is :\",count)\n",
    "    count+=1"
   ]
  },
  {
   "cell_type": "code",
   "execution_count": 52,
   "metadata": {},
   "outputs": [
    {
     "name": "stdout",
     "output_type": "stream",
     "text": [
      "1\n",
      "2\n",
      "3\n",
      "4\n",
      "5\n",
      "6\n",
      "7\n",
      "8\n",
      "9\n",
      "10\n"
     ]
    }
   ],
   "source": [
    "# To print first 10 numbers using while\n",
    "number=1\n",
    "while(number<11):\n",
    "    print(number)\n",
    "    number+=1;"
   ]
  },
  {
   "cell_type": "code",
   "execution_count": 53,
   "metadata": {},
   "outputs": [
    {
     "ename": "SyntaxError",
     "evalue": "invalid syntax (<ipython-input-53-9a7b74364a94>, line 2)",
     "output_type": "error",
     "traceback": [
      "\u001b[1;36m  File \u001b[1;32m\"<ipython-input-53-9a7b74364a94>\"\u001b[1;36m, line \u001b[1;32m2\u001b[0m\n\u001b[1;33m    for(int a=0;a<11;a++):\u001b[0m\n\u001b[1;37m            ^\u001b[0m\n\u001b[1;31mSyntaxError\u001b[0m\u001b[1;31m:\u001b[0m invalid syntax\n"
     ]
    }
   ],
   "source": [
    "#To print first 10 numbers by using for loop\n",
    "for(int a=0;a<11;a++):\n",
    "    print(a)\n",
    "    "
   ]
  },
  {
   "cell_type": "code",
   "execution_count": 55,
   "metadata": {},
   "outputs": [
    {
     "name": "stdout",
     "output_type": "stream",
     "text": [
      "1\n",
      "2\n",
      "3\n",
      "4\n",
      "5\n",
      "6\n",
      "7\n",
      "8\n",
      "9\n",
      "10\n"
     ]
    }
   ],
   "source": [
    "for number in range(1,11,1):\n",
    "    print(number)"
   ]
  },
  {
   "cell_type": "code",
   "execution_count": 56,
   "metadata": {},
   "outputs": [
    {
     "name": "stdout",
     "output_type": "stream",
     "text": [
      "The current number is  1\n",
      "The current number is  2\n",
      "The current number is  3\n",
      "The current number is  4\n"
     ]
    }
   ],
   "source": [
    "for number in range(1,5):\n",
    "    print (\"The current number is \",number)"
   ]
  },
  {
   "cell_type": "code",
   "execution_count": 63,
   "metadata": {},
   "outputs": [
    {
     "name": "stdout",
     "output_type": "stream",
     "text": [
      "The current number is  0\n",
      "The current number is  3\n",
      "The current number is  6\n",
      "The current number is  9\n",
      "The current number is  12\n",
      "The current number is  15\n",
      "The current number is  18\n",
      "The current number is  21\n",
      "The current number is  24\n",
      "The current number is  27\n",
      "The current number is  30\n",
      "The current number is  33\n",
      "The current number is  36\n",
      "The current number is  39\n",
      "The current number is  42\n",
      "The current number is  45\n",
      "The current number is  48\n"
     ]
    }
   ],
   "source": [
    "for number in range(0,50,3):\n",
    "    print (\"The current number is \",number)"
   ]
  },
  {
   "cell_type": "code",
   "execution_count": 64,
   "metadata": {},
   "outputs": [
    {
     "name": "stdout",
     "output_type": "stream",
     "text": [
      "The current number is  1\n",
      "The current number is  3\n",
      "The current number is  5\n"
     ]
    }
   ],
   "source": [
    "for number in range(1,7,2):\n",
    "    print (\"The current number is \",number)"
   ]
  },
  {
   "cell_type": "code",
   "execution_count": 67,
   "metadata": {},
   "outputs": [
    {
     "name": "stdout",
     "output_type": "stream",
     "text": [
      "The current number is  5\n",
      "The current number is  4\n",
      "The current number is  3\n",
      "The current number is  2\n",
      "The current number is  1\n"
     ]
    }
   ],
   "source": [
    "for number in range(5,0,-1):\n",
    "    print (\"The current number is \",number)"
   ]
  },
  {
   "cell_type": "code",
   "execution_count": 68,
   "metadata": {},
   "outputs": [
    {
     "name": "stdout",
     "output_type": "stream",
     "text": [
      "Security check of passenger: 1 -- baggage: 1 baggage cleared\n",
      "Security check of passenger: 1 -- baggage: 2 baggage cleared\n",
      "Security check of passenger: 2 -- baggage: 1 baggage cleared\n",
      "Security check of passenger: 2 -- baggage: 2 baggage cleared\n",
      "Security check of passenger: 3 -- baggage: 1 baggage cleared\n",
      "Security check of passenger: 3 -- baggage: 2 baggage cleared\n",
      "Security check of passenger: 4 -- baggage: 1 baggage cleared\n",
      "Security check of passenger: 4 -- baggage: 2 baggage cleared\n",
      "Security check of passenger: 5 -- baggage: 1 baggage cleared\n",
      "Security check of passenger: 5 -- baggage: 2 baggage cleared\n"
     ]
    }
   ],
   "source": [
    "number_of_passengers=5\n",
    "number_of_baggage=2\n",
    "security_check=True\n",
    "for passenger_count in range(1, number_of_passengers+1):\n",
    "    for baggage_count in range(1,number_of_baggage+1):\n",
    "        if(security_check==True):\n",
    "            print(\"Security check of passenger:\", passenger_count, \"-- baggage:\", baggage_count,\"baggage cleared\")\n",
    "        else:\n",
    "            print(\"Security check of passenger:\", passenger_count, \"-- baggage:\", baggage_count,\"baggage not cleared\")\n",
    "\n"
   ]
  },
  {
   "cell_type": "code",
   "execution_count": 69,
   "metadata": {},
   "outputs": [
    {
     "name": "stdout",
     "output_type": "stream",
     "text": [
      "25\n",
      "26\n",
      "27\n",
      "28\n"
     ]
    }
   ],
   "source": [
    "number=28\n",
    "for num in range(25,30):\n",
    "    if(number>num):\n",
    "        print(num)\n",
    "    else:\n",
    "        print(num)\n",
    "        break"
   ]
  },
  {
   "cell_type": "code",
   "execution_count": 4,
   "metadata": {},
   "outputs": [
    {
     "name": "stdout",
     "output_type": "stream",
     "text": [
      "Passport is valid\n"
     ]
    }
   ],
   "source": [
    "#Functions:\n",
    "#To find the valid passport by using a function\n",
    "observe1=\"What's happening!!\"\n",
    "def passport_check(passport_no):\n",
    "    observe4=\"actual copied to formal\"\n",
    "    observe5=\"func. execution starts\"\n",
    "    if(len(passport_no)==8):\n",
    "        if(passport_no[0]>=\"A\" and passport_no[0]<=\"Z\"):\n",
    "            status=\"valid\"\n",
    "        else:\n",
    "            status=\"invalid\"\n",
    "    else:\n",
    "        status= \"invalid\"\n",
    "    observe6=\"func. execution ends\"\n",
    "    return status\n",
    "observe2=\"function with formal arg.\"\n",
    "observe3=\"calling with actual arg.\"\n",
    "passport_status=passport_check(\"A9993471\")\n",
    "print(\"Passport is\",passport_status)\n",
    "#observe1,2,3,4,5,6 are temporary variables used to explain this concept\n"
   ]
  },
  {
   "cell_type": "code",
   "execution_count": 6,
   "metadata": {},
   "outputs": [
    {
     "name": "stdout",
     "output_type": "stream",
     "text": [
      "100\n"
     ]
    }
   ],
   "source": [
    "# To find the Square by using function\n",
    "def find_square(number):\n",
    "    square=number*number\n",
    "    return square\n",
    "\n",
    "print(find_square(10))\n",
    "    "
   ]
  },
  {
   "cell_type": "code",
   "execution_count": 9,
   "metadata": {},
   "outputs": [
    {
     "name": "stdout",
     "output_type": "stream",
     "text": [
      "30\n"
     ]
    }
   ],
   "source": [
    "#Sum of two numbers\n",
    "def findsum(a,b):\n",
    "    sum=a+b\n",
    "    return sum\n",
    "\n",
    "print(findsum(10,20))"
   ]
  },
  {
   "cell_type": "code",
   "execution_count": 13,
   "metadata": {},
   "outputs": [
    {
     "name": "stdout",
     "output_type": "stream",
     "text": [
      "None\n",
      "*********effect of pass by value*********\n",
      "num_val before function call: 10\n",
      "num_val after function call: 10\n",
      "-----------------------------------------------\n",
      "*********effect of pass by reference*********\n",
      "val_list before function call: [5, 10, 15]\n",
      "val_list after function call: [5, 10, 15, 20]\n"
     ]
    }
   ],
   "source": [
    "def change_number(num):\n",
    "    num+=10\n",
    "    \n",
    "print(change_number(100))\n",
    "def change_list(num_list):\n",
    "    num_list.append(20)\n",
    "num_val=10\n",
    "print(\"*********effect of pass by value*********\")\n",
    "print(\"num_val before function call:\", num_val)\n",
    "change_number(num_val)\n",
    "print(\"num_val after function call:\", num_val)\n",
    "print(\"-----------------------------------------------\")\n",
    "val_list=[5,10,15]\n",
    "print(\"*********effect of pass by reference*********\")\n",
    "print(\"val_list before function call:\", val_list)\n",
    "change_list(val_list)\n",
    "print(\"val_list after function call:\", val_list)\n",
    "\n",
    "\n"
   ]
  },
  {
   "cell_type": "code",
   "execution_count": 16,
   "metadata": {},
   "outputs": [
    {
     "name": "stdout",
     "output_type": "stream",
     "text": [
      "None\n"
     ]
    }
   ],
   "source": [
    "def change_number(num):\n",
    "    num+=10\n",
    "    \n",
    "print(change_number(10))"
   ]
  },
  {
   "cell_type": "code",
   "execution_count": 17,
   "metadata": {},
   "outputs": [
    {
     "name": "stdout",
     "output_type": "stream",
     "text": [
      "code-1: positional arguments\n",
      "Flight Number: FN789\n",
      "Seating Capacity: 200\n",
      "-------------------------------------------------\n",
      "code-2: keyword arguments\n",
      "Flight Number: FN789\n",
      "Seating Capacity: 250\n",
      "-------------------------------------------------\n",
      "code-3: default arguments\n",
      "Flight Number: FN789\n",
      "Flight Make: Eagle\n",
      "Seating Capacity: 150\n",
      "-------------------------------------------------\n",
      "code-4: variable argument count\n",
      "Passenger name: Jack\n",
      "Total baggage weight in kg: 25\n"
     ]
    }
   ],
   "source": [
    "def display1(flight_number, seating_capacity):\n",
    "    print(\"Flight Number:\", flight_number)\n",
    "    print(\"Seating Capacity:\", seating_capacity)\n",
    "print(\"code-1: positional arguments\")\n",
    "display1(\"FN789\",200)\n",
    "#Uncomment and execute the below function call statement and observe the output\n",
    "#display1(300,\"FN123\")\n",
    "def display2(flight_number, seating_capacity):\n",
    "    print(\"Flight Number:\", flight_number)\n",
    "    print(\"Seating Capacity:\", seating_capacity)\n",
    "print(\"-------------------------------------------------\")\n",
    "print(\"code-2: keyword arguments\")\n",
    "display2(seating_capacity=250, flight_number=\"FN789\")\n",
    "def display3(flight_number, flight_make=\"Boeing\", seating_capacity=150):\n",
    "    print(\"Flight Number:\", flight_number)\n",
    "    print(\"Flight Make:\", flight_make)\n",
    "    print(\"Seating Capacity:\", seating_capacity)\n",
    "print(\"-------------------------------------------------\")\n",
    "print(\"code-3: default arguments\")\n",
    "display3(\"FN789\",\"Eagle\")\n",
    "#Uncomment and execute the below function call statements one by one and observe the output\n",
    "#display3(\"FN234\")\n",
    "#display3(\"FN678\",\"Qantas\",200)\n",
    "def display4(passenger_name, *baggage_tuple):\n",
    "    print(\"Passenger name:\",passenger_name)\n",
    "    total_wt=0\n",
    "    for baggage_wt in baggage_tuple:\n",
    "        total_wt+=baggage_wt\n",
    "    print(\"Total baggage weight in kg:\", total_wt)\n",
    "print(\"-------------------------------------------------\")\n",
    "print(\"code-4: variable argument count\")\n",
    "display4(\"Jack\",12,8,5)\n",
    "#Uncomment and execute the below function call statements one by one and observe the output\n",
    "#display4(\"Chan\",20,12)\n",
    "#display4(\"Henry\",23)\n"
   ]
  },
  {
   "cell_type": "code",
   "execution_count": 18,
   "metadata": {},
   "outputs": [
    {
     "name": "stdout",
     "output_type": "stream",
     "text": [
      "This airline allows baggage limit till 30 kgs\n",
      "Pay the extra baggage charge of 500 rupees\n",
      "This airline now allows baggage limit till 45 kgs\n",
      "Pay the extra baggage charge of 500 rupees\n"
     ]
    }
   ],
   "source": [
    "wt_limit=30\n",
    "def baggage_check(baggage_wt):\n",
    "    extra_baggage_charge=0\n",
    "    if not(baggage_wt>=0 and baggage_wt<=wt_limit):\n",
    "        extra_baggage=baggage_wt-wt_limit\n",
    "        extra_baggage_charge=extra_baggage*100\n",
    "    return extra_baggage_charge\n",
    "def update_baggage_limit(new_wt_limit):\n",
    "    wt_limit=new_wt_limit\n",
    "    print(\"This airline now allows baggage limit till\",wt_limit,\"kgs\")\n",
    "print(\"This airline allows baggage limit till\",wt_limit,\"kgs\")\n",
    "print(\"Pay the extra baggage charge of\",baggage_check(35),\"rupees\")\n",
    "update_baggage_limit(45)\n",
    "print(\"Pay the extra baggage charge of\",baggage_check(35),\"rupees\")\n"
   ]
  },
  {
   "cell_type": "code",
   "execution_count": null,
   "metadata": {},
   "outputs": [],
   "source": []
  }
 ],
 "metadata": {
  "kernelspec": {
   "display_name": "Python 3",
   "language": "python",
   "name": "python3"
  },
  "language_info": {
   "codemirror_mode": {
    "name": "ipython",
    "version": 3
   },
   "file_extension": ".py",
   "mimetype": "text/x-python",
   "name": "python",
   "nbconvert_exporter": "python",
   "pygments_lexer": "ipython3",
   "version": "3.7.4"
  }
 },
 "nbformat": 4,
 "nbformat_minor": 4
}
