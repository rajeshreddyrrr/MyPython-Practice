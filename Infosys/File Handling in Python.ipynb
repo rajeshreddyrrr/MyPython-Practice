{
 "cells": [
  {
   "cell_type": "markdown",
   "metadata": {},
   "source": [
    "# Read the file\n",
    "\n",
    "By using open and readline() we can read file"
   ]
  },
  {
   "cell_type": "code",
   "execution_count": 8,
   "metadata": {},
   "outputs": [
    {
     "name": "stdout",
     "output_type": "stream",
     "text": [
      "RAJESH REDDY R\n",
      "this is first line\n",
      "you are reading the second line\n"
     ]
    }
   ],
   "source": [
    "# Consider a file data.txt with below data.\n",
    "#Python provides readline() function to read the single line from the file at a time. When the end of the file reached it returns an empty string.\n",
    "#\n",
    "fhr=open(\"C:\\\\Users\\DELL\\Contacts\\Desktop\\data.txt\",\"r\")\n",
    "line1=fhr.readline()    \n",
    "print(line1,end=\"\")\n",
    "line2=fhr.readline()    \n",
    "print(line2,end=\"\")\n",
    "line3=fhr.readline()    \n",
    "print(line3,end=\"\")"
   ]
  },
  {
   "cell_type": "markdown",
   "metadata": {},
   "source": [
    "# Reading the contents of a file into a list:\n",
    "\n",
    "Python provides readlines() function to read entire content of file into a variable where each line will present as an element of the list.\n",
    "\n",
    "Syntax:\n",
    "var=file_object.readlines()"
   ]
  },
  {
   "cell_type": "code",
   "execution_count": 10,
   "metadata": {},
   "outputs": [
    {
     "name": "stdout",
     "output_type": "stream",
     "text": [
      "RAJESH REDDY R\n",
      "this is first line\n",
      "you are reading the second line\n",
      "now you are dealing with third line\n",
      "\n"
     ]
    }
   ],
   "source": [
    "fhr=open(\"C:\\\\Users\\DELL\\Contacts\\Desktop\\data.txt\",\"r\")\n",
    "list_var=fhr.readlines()\n",
    "for line in list_var:\n",
    "    print(line,end=\"\") \n",
    "fhr.close()\n"
   ]
  },
  {
   "cell_type": "code",
   "execution_count": 9,
   "metadata": {},
   "outputs": [
    {
     "name": "stdout",
     "output_type": "stream",
     "text": [
      "RAJESH REDDY R\n",
      "\n",
      "this is first line\n",
      "\n",
      "you are reading the second line\n",
      "\n",
      "now you are dealing with third line\n",
      "\n",
      "\n",
      "\n"
     ]
    }
   ],
   "source": [
    "fhr=open(\"C:\\\\Users\\DELL\\Contacts\\Desktop\\data.txt\",\"r\")\n",
    "list_var=fhr.readlines()\n",
    "for line in list_var:\n",
    "    print(line) \n",
    "fhr.close()\n"
   ]
  },
  {
   "cell_type": "markdown",
   "metadata": {},
   "source": [
    "# Reading the contents of a file into a string:\n",
    "\n",
    "Python provides read(size) function to read the specified size(number) of characters from the file as a string into a variable. If no size is specified, then entire content of the file is read as a string into a variable.\n",
    "\n"
   ]
  },
  {
   "cell_type": "code",
   "execution_count": 13,
   "metadata": {},
   "outputs": [
    {
     "name": "stdout",
     "output_type": "stream",
     "text": [
      "RAJES\n"
     ]
    }
   ],
   "source": [
    "fhr=open(\"C:\\\\Users\\DELL\\Contacts\\Desktop\\data.txt\",\"r\")\n",
    "data=fhr.read(5)\n",
    "\n",
    "print(data)"
   ]
  },
  {
   "cell_type": "code",
   "execution_count": 19,
   "metadata": {},
   "outputs": [
    {
     "data": {
      "text/plain": [
       "'RAJESH REDDY R\\nthis is first line\\nyou are reading the second line\\nnow you are dealing with third line\\n\\n'"
      ]
     },
     "execution_count": 19,
     "metadata": {},
     "output_type": "execute_result"
    }
   ],
   "source": [
    "fhr=open(\"C:\\\\Users\\DELL\\Contacts\\Desktop\\data.txt\",\"r\")\n",
    "data=fhr.read()\n",
    "data"
   ]
  },
  {
   "cell_type": "code",
   "execution_count": 20,
   "metadata": {},
   "outputs": [
    {
     "name": "stdout",
     "output_type": "stream",
     "text": [
      "RAJESH REDDY R\n",
      "this is first line\n",
      "you are reading the second line\n",
      "now you are dealing with third line\n",
      "\n"
     ]
    }
   ],
   "source": [
    "fhr=open(\"C:\\\\Users\\DELL\\Contacts\\Desktop\\data.txt\",\"r\")\n",
    "for line in fhr:\n",
    "    print(line,end=\"\")\n",
    "\n",
    "fhr.close()"
   ]
  },
  {
   "cell_type": "markdown",
   "metadata": {},
   "source": [
    "# Writing into file\n",
    "\n",
    "Python provides write(data) function to write the given data which is a string into the file and it returns the number of characters written into file.\n",
    "\n",
    "Syntax:\n",
    "\n",
    "var=file_object.write(data)\n",
    "\n",
    "where,\n",
    "\n",
    "data is the content which is a string to be written into a file\n",
    "var is a variable assigned with number characters written into the file"
   ]
  },
  {
   "cell_type": "code",
   "execution_count": 5,
   "metadata": {},
   "outputs": [
    {
     "name": "stdout",
     "output_type": "stream",
     "text": [
      "Reading file\n",
      "This is First lineThis is Second Line\n",
      "Writing File\n",
      "20\n",
      "19\n",
      "Afrer Writing file\n",
      "This is First line \n",
      "This is Second Line\n"
     ]
    }
   ],
   "source": [
    "print(\"Reading file\")\n",
    "fhr=open(\"C:\\\\Users\\DELL\\Contacts\\Desktop\\data.txt\",\"r\")\n",
    "data=fhr.read()\n",
    "print(data)\n",
    "fhr.close()\n",
    "\n",
    "print(\"Writing File\")\n",
    "\n",
    "fhr=open(\"C:\\\\Users\\DELL\\Contacts\\Desktop\\data.txt\",\"w\")\n",
    "l1=fhr.write(\"This is First line \\n\")\n",
    "l2=fhr.write(\"This is Second Line\")\n",
    "\n",
    "print(l1)\n",
    "print(l2)\n",
    "\n",
    "fhr.close()\n",
    "\n",
    "print(\"Afrer Writing file\")\n",
    "fhr=open(\"C:\\\\Users\\DELL\\Contacts\\Desktop\\data.txt\",\"r\")\n",
    "data=fhr.read()\n",
    "print(data)\n",
    "fhr.close()"
   ]
  },
  {
   "cell_type": "markdown",
   "metadata": {},
   "source": [
    "# Getting current position of the file object pointer\n",
    "Python provides tell() method to get current position which is pointed by file object within the file.\n",
    "\n",
    "Syntax:\n",
    "\n",
    "file_object.tell()"
   ]
  },
  {
   "cell_type": "code",
   "execution_count": 8,
   "metadata": {},
   "outputs": [
    {
     "name": "stdout",
     "output_type": "stream",
     "text": [
      "0\n",
      "This is First line \n",
      "\n",
      "21\n",
      "This is Second Line\n"
     ]
    }
   ],
   "source": [
    "fhr=open(\"C:\\\\Users\\DELL\\Contacts\\Desktop\\data.txt\",\"r\")\n",
    "cur_pos=fhr.tell()\n",
    "print(cur_pos)\n",
    "data =fhr.readline()\n",
    "print(data)\n",
    "cur_pos=fhr.tell()\n",
    "print(cur_pos)\n",
    "data =fhr.readline()\n",
    "print(data)\n",
    "fhr.close()\n"
   ]
  },
  {
   "cell_type": "code",
   "execution_count": null,
   "metadata": {},
   "outputs": [],
   "source": []
  }
 ],
 "metadata": {
  "kernelspec": {
   "display_name": "Python 3",
   "language": "python",
   "name": "python3"
  },
  "language_info": {
   "codemirror_mode": {
    "name": "ipython",
    "version": 3
   },
   "file_extension": ".py",
   "mimetype": "text/x-python",
   "name": "python",
   "nbconvert_exporter": "python",
   "pygments_lexer": "ipython3",
   "version": "3.7.4"
  }
 },
 "nbformat": 4,
 "nbformat_minor": 2
}
