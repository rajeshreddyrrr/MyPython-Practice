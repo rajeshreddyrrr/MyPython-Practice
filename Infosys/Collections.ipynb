{
 "cells": [
  {
   "cell_type": "code",
   "execution_count": 2,
   "metadata": {},
   "outputs": [
    {
     "data": {
      "text/plain": [
       "['Rajesh', 'Reddy', 'Ramireddy', 'Ramesh', 'Sai']"
      ]
     },
     "execution_count": 2,
     "metadata": {},
     "output_type": "execute_result"
    }
   ],
   "source": [
    "\n",
    "#Lists can also store a sequence of elements but the value of the elements cannot be changed. (i.e. lists are MUTABLE). Elements can be homogeneous or heterogeneous but they are READ-ONLY.\n",
    "#Lists are mutable"
   ]
  },
  {
   "cell_type": "code",
   "execution_count": null,
   "metadata": {},
   "outputs": [],
   "source": [
    "#LIsts\n",
    "names=[\"Rajesh\",\"Reddy\",\"Ramireddy\",\"Ramesh\",\"Sai\"]\n",
    "\n",
    "names\n"
   ]
  },
  {
   "cell_type": "code",
   "execution_count": 9,
   "metadata": {},
   "outputs": [
    {
     "data": {
      "text/plain": [
       "['Rajesh',\n",
       " 'Reddy',\n",
       " 'Ramireddy',\n",
       " 'Ramesh',\n",
       " 'Sai',\n",
       " 'prathap',\n",
       " 'prathap',\n",
       " 'prathap',\n",
       " 'prathap',\n",
       " 'prathap',\n",
       " 'prathap']"
      ]
     },
     "execution_count": 9,
     "metadata": {},
     "output_type": "execute_result"
    }
   ],
   "source": [
    "# num_list.append(60) - Adds an element to end of list\n",
    "\n",
    "names.append(\"prathap\")\n",
    "\n",
    "names\n",
    "\n",
    "\n"
   ]
  },
  {
   "cell_type": "code",
   "execution_count": 12,
   "metadata": {},
   "outputs": [
    {
     "data": {
      "text/plain": [
       "4"
      ]
     },
     "execution_count": 12,
     "metadata": {},
     "output_type": "execute_result"
    }
   ],
   "source": [
    "# num_list.index(10) - Returns the index position of the element.\n",
    "#In case of multiple occurrence of the element, returns the index of the first occurrence.\n",
    "#Throws ValueError, if the element is not found\n",
    "names.index('Sai')\n"
   ]
  },
  {
   "cell_type": "code",
   "execution_count": 15,
   "metadata": {},
   "outputs": [
    {
     "data": {
      "text/plain": [
       "['Rajesh',\n",
       " 'Reddy',\n",
       " 'Ramireddy',\n",
       " 'Prathyusha',\n",
       " 'Prathyusha',\n",
       " 'Ramesh',\n",
       " 'Sai',\n",
       " 'prathap',\n",
       " 'prathap',\n",
       " 'prathap',\n",
       " 'prathap',\n",
       " 'prathap',\n",
       " 'prathap']"
      ]
     },
     "execution_count": 15,
     "metadata": {},
     "output_type": "execute_result"
    }
   ],
   "source": [
    "#num_list.insert(3,60) - Inserts an element at a given position\n",
    "\n",
    "names.insert(3,\"Prathyusha\")\n",
    "\n",
    "names\n"
   ]
  },
  {
   "cell_type": "code",
   "execution_count": 18,
   "metadata": {},
   "outputs": [
    {
     "data": {
      "text/plain": [
       "'Ramesh'"
      ]
     },
     "execution_count": 18,
     "metadata": {},
     "output_type": "execute_result"
    }
   ],
   "source": [
    "# num_list.pop(3) - Removes and returns the element at given index position from the list\n",
    "\n",
    "\n",
    "names.pop(3)\n"
   ]
  },
  {
   "cell_type": "code",
   "execution_count": 23,
   "metadata": {},
   "outputs": [
    {
     "data": {
      "text/plain": [
       "['Rajesh', 'Reddy', 'Ramireddy', 'Sai', 'prathap']"
      ]
     },
     "execution_count": 23,
     "metadata": {},
     "output_type": "execute_result"
    }
   ],
   "source": [
    "# num_list.remove(30) - Removes the first occurring element whose value is 30\n",
    "\n",
    "names.remove(\"prathap\")\n",
    "\n",
    "names\n"
   ]
  },
  {
   "cell_type": "code",
   "execution_count": 24,
   "metadata": {},
   "outputs": [
    {
     "data": {
      "text/plain": [
       "['Rajesh', 'Ramireddy', 'Reddy', 'Sai', 'prathap']"
      ]
     },
     "execution_count": 24,
     "metadata": {},
     "output_type": "execute_result"
    }
   ],
   "source": [
    "# num_list.sort() - Sorts the list in ascending order\n",
    "\n",
    "names\n",
    "names.sort()\n",
    "names\n"
   ]
  },
  {
   "cell_type": "code",
   "execution_count": 25,
   "metadata": {},
   "outputs": [
    {
     "data": {
      "text/plain": [
       "['prathap', 'Sai', 'Reddy', 'Ramireddy', 'Rajesh']"
      ]
     },
     "execution_count": 25,
     "metadata": {},
     "output_type": "execute_result"
    }
   ],
   "source": [
    "# num_list.reverse() - Reverses the list\n",
    "\n",
    "\n",
    "names.reverse()\n",
    "\n",
    "names\n",
    "\n"
   ]
  },
  {
   "cell_type": "markdown",
   "metadata": {},
   "source": [
    "# Tuple\n",
    "\n",
    "#Tuple can also store a sequence of elements but the value of the elements cannot be changed. (i.e. tuples are IMMUTABLE). Elements can be homogeneous or heterogeneous but they are READ-ONLY.\n",
    "#Tupels are immutable"
   ]
  },
  {
   "cell_type": "code",
   "execution_count": null,
   "metadata": {},
   "outputs": [],
   "source": []
  },
  {
   "cell_type": "markdown",
   "metadata": {},
   "source": [
    "# Dictionarys\n",
    "\n",
    "A dictionary is a collection which is unordered, changeable and indexed. In Python dictionaries are written with curly brackets, and they have keys and values.\n",
    "\n"
   ]
  },
  {
   "cell_type": "code",
   "execution_count": 28,
   "metadata": {},
   "outputs": [
    {
     "data": {
      "text/plain": [
       "{'name': 'pulsar', 'CC': '150', 'model': 'pulsar 150'}"
      ]
     },
     "execution_count": 28,
     "metadata": {},
     "output_type": "execute_result"
    }
   ],
   "source": [
    "bikes={\"name\":\"pulsar\",\n",
    "      \"CC\":\"150\",\n",
    "      \"model\":\"pulsar 150\"}\n",
    "\n",
    "bikes"
   ]
  },
  {
   "cell_type": "code",
   "execution_count": 41,
   "metadata": {},
   "outputs": [
    {
     "name": "stdout",
     "output_type": "stream",
     "text": [
      "pulsar\n",
      "1500\n",
      "pulsar1500\n"
     ]
    },
    {
     "data": {
      "text/plain": [
       "{'name': 'pulsar150', 'CC': '1500', 'model': 'pulsar1500'}"
      ]
     },
     "execution_count": 41,
     "metadata": {},
     "output_type": "execute_result"
    }
   ],
   "source": [
    "x=bikes.get(\"name\")\n",
    "print(x)\n",
    "y=bikes.get(\"CC\")\n",
    "print(y)\n",
    "z=bikes.get(\"model\")\n",
    "print(z)\n",
    "\n",
    "bikes.update({\"name\":\"pulsar150\",\"CC\":\"1500\",\"model\":\"pulsar1500\"})\n",
    "\n",
    "bikes"
   ]
  },
  {
   "cell_type": "code",
   "execution_count": 38,
   "metadata": {},
   "outputs": [
    {
     "name": "stdout",
     "output_type": "stream",
     "text": [
      "Before update:\n",
      "Co-pilot: Raghav\n",
      "\n",
      "After update:\n",
      "Co-pilot: Henry\n",
      "Flight Attendant: Jane\n"
     ]
    }
   ],
   "source": [
    "#Update dictionary\n",
    "#crew_details.get(\"Co-pilot\") - Returns the value for given key. If the given key is not found, returns None\n",
    "# crew_details.update({\"Flight Attendant\":\"Jane\", \"Co-pilot\":\"Henry\"}) - Updates the dictionary with the given key-value pairs. If a key-value pair is already existing, it will be overwritten, otherwise it will be added to the dictionary\n",
    "\n",
    "\n",
    "crew_details={\n",
    "    \"Pilot\":\"Kumar\",\n",
    "    \"Co-pilot\":\"Raghav\",\n",
    "    \"Head-Strewardess\":\"Malini\",\n",
    "    \"Stewardess\":\"Mala\"\n",
    "}\n",
    "print(\"Before update:\")\n",
    "print(\"Co-pilot:\",crew_details.get(\"Co-pilot\"))\n",
    "crew_details.update({\"Flight Attendant\":\"Jane\", \"Co-pilot\":\"Henry\"})\n",
    "print(\"\\nAfter update:\")\n",
    "print(\"Co-pilot:\",crew_details.get(\"Co-pilot\"))\n",
    "print(\"Flight Attendant:\",crew_details[\"Flight Attendant\"])\n"
   ]
  },
  {
   "cell_type": "code",
   "execution_count": null,
   "metadata": {},
   "outputs": [],
   "source": []
  }
 ],
 "metadata": {
  "kernelspec": {
   "display_name": "Python 3",
   "language": "python",
   "name": "python3"
  },
  "language_info": {
   "codemirror_mode": {
    "name": "ipython",
    "version": 3
   },
   "file_extension": ".py",
   "mimetype": "text/x-python",
   "name": "python",
   "nbconvert_exporter": "python",
   "pygments_lexer": "ipython3",
   "version": "3.7.4"
  }
 },
 "nbformat": 4,
 "nbformat_minor": 2
}
